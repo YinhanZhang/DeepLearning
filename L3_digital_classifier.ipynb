{
 "cells": [
  {
   "cell_type": "markdown",
   "metadata": {},
   "source": [
    "# A Digit Classfier"
   ]
  },
  {
   "cell_type": "markdown",
   "metadata": {},
   "source": [
    "## Pixels: The Foundations of Computer Vison\n",
    "To demonstrate the concept of Computer Vision, we use a toy dataset 'MINST'"
   ]
  },
  {
   "cell_type": "code",
   "execution_count": 1,
   "metadata": {},
   "outputs": [],
   "source": [
    "from fastai.vision.all import *"
   ]
  },
  {
   "cell_type": "code",
   "execution_count": 2,
   "metadata": {},
   "outputs": [],
   "source": [
    "# Download MINST dataset \n",
    "path = untar_data(URLs.MNIST_SAMPLE)"
   ]
  },
  {
   "cell_type": "code",
   "execution_count": 3,
   "metadata": {},
   "outputs": [],
   "source": [
    "# Set the path to the Dataset as a default basic path \n",
    "Path.BASE_PATH = path\n"
   ]
  },
  {
   "cell_type": "code",
   "execution_count": 5,
   "metadata": {},
   "outputs": [
    {
     "name": "stdout",
     "output_type": "stream",
     "text": [
      "[Path('valid'), Path('labels.csv'), Path('train')]\n"
     ]
    }
   ],
   "source": [
    "# Check digital folders \n",
    "print(path.ls())\n",
    "#print((path/'train').ls())\n",
    "#print((path/'train'/'3').ls())\n",
    "# Sort files based on their names \n",
    "three = (path/'train'/'3').ls().sorted()\n",
    "seven = (path/'train'/'7').ls().sorted()\n",
    "#print(three)\n",
    "#print(seven)"
   ]
  },
  {
   "cell_type": "code",
   "execution_count": 6,
   "metadata": {},
   "outputs": [
    {
     "data": {
      "image/jpeg": "[encoded data removed]",
      "image/png": "[encoded data removed]",
      "text/plain": [
       "<PIL.PngImagePlugin.PngImageFile image mode=L size=28x28>"
      ]
     },
     "execution_count": 6,
     "metadata": {},
     "output_type": "execute_result"
    }
   ],
   "source": [
    "# check out the image \n",
    "im3 = Image.open(three[1])\n",
    "im3"
   ]
  },
  {
   "cell_type": "code",
   "execution_count": 7,
   "metadata": {},
   "outputs": [
    {
     "name": "stdout",
     "output_type": "stream",
     "text": [
      "[[  0   0   0   0   0   0]\n",
      " [  0   0   0   0   0  29]\n",
      " [  0   0   0  48 166 224]\n",
      " [  0  93 244 249 253 187]\n",
      " [  0 107 253 253 230  48]\n",
      " [  0   3  20  20  15   0]]\n",
      "tensor([[  0,   0,   0,   0,   0,   0],\n",
      "        [  0,   0,   0,   0,   0,  29],\n",
      "        [  0,   0,   0,  48, 166, 224],\n",
      "        [  0,  93, 244, 249, 253, 187],\n",
      "        [  0, 107, 253, 253, 230,  48],\n",
      "        [  0,   3,  20,  20,  15,   0]], dtype=torch.uint8)\n"
     ]
    }
   ],
   "source": [
    "# Convert image format to numpy array or Pytorch tensor \n",
    "print(array(im3)[4:10, 4:10])\n",
    "print(tensor(im3)[4:10, 4:10])"
   ]
  },
  {
   "cell_type": "code",
   "execution_count": 8,
   "metadata": {},
   "outputs": [
    {
     "data": {
      "text/html": [
       "<style type=\"text/css\">\n",
       "#T_eefab_row0_col0, #T_eefab_row0_col1, #T_eefab_row0_col2, #T_eefab_row0_col3, #T_eefab_row0_col4, #T_eefab_row0_col5, #T_eefab_row0_col6, #T_eefab_row0_col7, #T_eefab_row0_col8, #T_eefab_row0_col9, #T_eefab_row0_col10, #T_eefab_row0_col11, #T_eefab_row0_col12, #T_eefab_row0_col13, #T_eefab_row0_col14, #T_eefab_row0_col15, #T_eefab_row0_col16, #T_eefab_row0_col17, #T_eefab_row0_col18, #T_eefab_row0_col19, #T_eefab_row0_col20, #T_eefab_row0_col21, #T_eefab_row0_col22, #T_eefab_row0_col23, #T_eefab_row0_col24, #T_eefab_row0_col25, #T_eefab_row0_col26, #T_eefab_row0_col27, #T_eefab_row1_col0, #T_eefab_row1_col1, #T_eefab_row1_col2, #T_eefab_row1_col3, #T_eefab_row1_col4, #T_eefab_row1_col5, #T_eefab_row1_col6, #T_eefab_row1_col7, #T_eefab_row1_col8, #T_eefab_row1_col9, #T_eefab_row1_col10, #T_eefab_row1_col11, #T_eefab_row1_col12, #T_eefab_row1_col13, #T_eefab_row1_col14, #T_eefab_row1_col15, #T_eefab_row1_col16, #T_eefab_row1_col17, #T_eefab_row1_col18, #T_eefab_row1_col19, #T_eefab_row1_col20, #T_eefab_row1_col21, #T_eefab_row1_col22, #T_eefab_row1_col23, #T_eefab_row1_col24, #T_eefab_row1_col25, #T_eefab_row1_col26, #T_eefab_row1_col27, #T_eefab_row2_col0, #T_eefab_row2_col1, #T_eefab_row2_col2, #T_eefab_row2_col3, #T_eefab_row2_col4, #T_eefab_row2_col5, #T_eefab_row2_col6, #T_eefab_row2_col7, #T_eefab_row2_col8, #T_eefab_row2_col9, #T_eefab_row2_col10, #T_eefab_row2_col11, #T_eefab_row2_col12, #T_eefab_row2_col13, #T_eefab_row2_col14, #T_eefab_row2_col15, #T_eefab_row2_col16, #T_eefab_row2_col17, #T_eefab_row2_col18, #T_eefab_row2_col19, #T_eefab_row2_col20, #T_eefab_row2_col21, #T_eefab_row2_col22, #T_eefab_row2_col23, #T_eefab_row2_col24, #T_eefab_row2_col25, #T_eefab_row2_col26, #T_eefab_row2_col27, #T_eefab_row3_col0, #T_eefab_row3_col1, #T_eefab_row3_col2, #T_eefab_row3_col3, #T_eefab_row3_col4, #T_eefab_row3_col5, #T_eefab_row3_col6, #T_eefab_row3_col7, #T_eefab_row3_col8, #T_eefab_row3_col9, #T_eefab_row3_col10, #T_eefab_row3_col11, #T_eefab_row3_col12, #T_eefab_row3_col13, #T_eefab_row3_col14, #T_eefab_row3_col15, #T_eefab_row3_col16, #T_eefab_row3_col17, #T_eefab_row3_col18, #T_eefab_row3_col19, #T_eefab_row3_col20, #T_eefab_row3_col21, #T_eefab_row3_col22, #T_eefab_row3_col23, #T_eefab_row3_col24, #T_eefab_row3_col25, #T_eefab_row3_col26, #T_eefab_row3_col27, #T_eefab_row4_col0, #T_eefab_row4_col1, #T_eefab_row4_col2, #T_eefab_row4_col3, #T_eefab_row4_col4, #T_eefab_row4_col5, #T_eefab_row4_col6, #T_eefab_row4_col7, #T_eefab_row4_col8, #T_eefab_row4_col9, #T_eefab_row4_col10, #T_eefab_row4_col11, #T_eefab_row4_col12, #T_eefab_row4_col13, #T_eefab_row4_col14, #T_eefab_row4_col15, #T_eefab_row4_col16, #T_eefab_row4_col17, #T_eefab_row4_col18, #T_eefab_row4_col19, #T_eefab_row4_col20, #T_eefab_row4_col21, #T_eefab_row4_col22, #T_eefab_row4_col23, #T_eefab_row4_col24, #T_eefab_row4_col25, #T_eefab_row4_col26, #T_eefab_row4_col27, #T_eefab_row5_col0, #T_eefab_row5_col1, #T_eefab_row5_col2, #T_eefab_row5_col3, #T_eefab_row5_col4, #T_eefab_row5_col5, #T_eefab_row5_col6, #T_eefab_row5_col7, #T_eefab_row5_col8, #T_eefab_row5_col19, #T_eefab_row5_col20, #T_eefab_row5_col21, #T_eefab_row5_col22, #T_eefab_row5_col23, #T_eefab_row5_col24, #T_eefab_row5_col25, #T_eefab_row5_col26, #T_eefab_row5_col27, #T_eefab_row6_col0, #T_eefab_row6_col1, #T_eefab_row6_col2, #T_eefab_row6_col3, #T_eefab_row6_col4, #T_eefab_row6_col5, #T_eefab_row6_col6, #T_eefab_row6_col19, #T_eefab_row6_col20, #T_eefab_row6_col21, #T_eefab_row6_col22, #T_eefab_row6_col23, #T_eefab_row6_col24, #T_eefab_row6_col25, #T_eefab_row6_col26, #T_eefab_row6_col27, #T_eefab_row7_col0, #T_eefab_row7_col1, #T_eefab_row7_col2, #T_eefab_row7_col3, #T_eefab_row7_col4, #T_eefab_row7_col19, #T_eefab_row7_col20, #T_eefab_row7_col21, #T_eefab_row7_col22, #T_eefab_row7_col23, #T_eefab_row7_col24, #T_eefab_row7_col25, #T_eefab_row7_col26, #T_eefab_row7_col27, #T_eefab_row8_col0, #T_eefab_row8_col1, #T_eefab_row8_col2, #T_eefab_row8_col3, #T_eefab_row8_col4, #T_eefab_row8_col10, #T_eefab_row8_col11, #T_eefab_row8_col12, #T_eefab_row8_col13, #T_eefab_row8_col14, #T_eefab_row8_col19, #T_eefab_row8_col20, #T_eefab_row8_col21, #T_eefab_row8_col22, #T_eefab_row8_col23, #T_eefab_row8_col24, #T_eefab_row8_col25, #T_eefab_row8_col26, #T_eefab_row8_col27, #T_eefab_row9_col0, #T_eefab_row9_col1, #T_eefab_row9_col2, #T_eefab_row9_col3, #T_eefab_row9_col4, #T_eefab_row9_col9, #T_eefab_row9_col10, #T_eefab_row9_col11, #T_eefab_row9_col12, #T_eefab_row9_col13, #T_eefab_row9_col19, #T_eefab_row9_col20, #T_eefab_row9_col21, #T_eefab_row9_col22, #T_eefab_row9_col23, #T_eefab_row9_col24, #T_eefab_row9_col25, #T_eefab_row9_col26, #T_eefab_row9_col27, #T_eefab_row10_col0, #T_eefab_row10_col1, #T_eefab_row10_col2, #T_eefab_row10_col3, #T_eefab_row10_col4, #T_eefab_row10_col5, #T_eefab_row10_col6, #T_eefab_row10_col7, #T_eefab_row10_col8, #T_eefab_row10_col9, #T_eefab_row10_col10, #T_eefab_row10_col11, #T_eefab_row10_col12, #T_eefab_row10_col13, #T_eefab_row10_col18, #T_eefab_row10_col19, #T_eefab_row10_col20, #T_eefab_row10_col21, #T_eefab_row10_col22, #T_eefab_row10_col23, #T_eefab_row10_col24, #T_eefab_row10_col25, #T_eefab_row10_col26, #T_eefab_row10_col27, #T_eefab_row11_col0, #T_eefab_row11_col1, #T_eefab_row11_col2, #T_eefab_row11_col3, #T_eefab_row11_col4, #T_eefab_row11_col5, #T_eefab_row11_col6, #T_eefab_row11_col7, #T_eefab_row11_col8, #T_eefab_row11_col9, #T_eefab_row11_col10, #T_eefab_row11_col17, #T_eefab_row11_col18, #T_eefab_row11_col19, #T_eefab_row11_col20, #T_eefab_row11_col21, #T_eefab_row11_col22, #T_eefab_row11_col23, #T_eefab_row11_col24, #T_eefab_row11_col25, #T_eefab_row11_col26, #T_eefab_row11_col27, #T_eefab_row12_col0, #T_eefab_row12_col1, #T_eefab_row12_col2, #T_eefab_row12_col3, #T_eefab_row12_col4, #T_eefab_row12_col5, #T_eefab_row12_col6, #T_eefab_row12_col7, #T_eefab_row12_col8, #T_eefab_row12_col17, #T_eefab_row12_col18, #T_eefab_row12_col19, #T_eefab_row12_col20, #T_eefab_row12_col21, #T_eefab_row12_col22, #T_eefab_row12_col23, #T_eefab_row12_col24, #T_eefab_row12_col25, #T_eefab_row12_col26, #T_eefab_row12_col27, #T_eefab_row13_col0, #T_eefab_row13_col1, #T_eefab_row13_col2, #T_eefab_row13_col3, #T_eefab_row13_col4, #T_eefab_row13_col5, #T_eefab_row13_col6, #T_eefab_row13_col7, #T_eefab_row13_col8, #T_eefab_row13_col20, #T_eefab_row13_col21, #T_eefab_row13_col22, #T_eefab_row13_col23, #T_eefab_row13_col24, #T_eefab_row13_col25, #T_eefab_row13_col26, #T_eefab_row13_col27, #T_eefab_row14_col0, #T_eefab_row14_col1, #T_eefab_row14_col2, #T_eefab_row14_col3, #T_eefab_row14_col4, #T_eefab_row14_col5, #T_eefab_row14_col6, #T_eefab_row14_col7, #T_eefab_row14_col8, #T_eefab_row14_col9, #T_eefab_row14_col10, #T_eefab_row14_col21, #T_eefab_row14_col22, #T_eefab_row14_col23, #T_eefab_row14_col24, #T_eefab_row14_col25, #T_eefab_row14_col26, #T_eefab_row14_col27, #T_eefab_row15_col0, #T_eefab_row15_col1, #T_eefab_row15_col2, #T_eefab_row15_col3, #T_eefab_row15_col4, #T_eefab_row15_col5, #T_eefab_row15_col6, #T_eefab_row15_col7, #T_eefab_row15_col8, #T_eefab_row15_col9, #T_eefab_row15_col10, #T_eefab_row15_col11, #T_eefab_row15_col12, #T_eefab_row15_col13, #T_eefab_row15_col21, #T_eefab_row15_col22, #T_eefab_row15_col23, #T_eefab_row15_col24, #T_eefab_row15_col25, #T_eefab_row15_col26, #T_eefab_row15_col27, #T_eefab_row16_col0, #T_eefab_row16_col1, #T_eefab_row16_col2, #T_eefab_row16_col3, #T_eefab_row16_col4, #T_eefab_row16_col5, #T_eefab_row16_col6, #T_eefab_row16_col7, #T_eefab_row16_col8, #T_eefab_row16_col9, #T_eefab_row16_col10, #T_eefab_row16_col11, #T_eefab_row16_col12, #T_eefab_row16_col13, #T_eefab_row16_col14, #T_eefab_row16_col15, #T_eefab_row16_col16, #T_eefab_row16_col21, #T_eefab_row16_col22, #T_eefab_row16_col23, #T_eefab_row16_col24, #T_eefab_row16_col25, #T_eefab_row16_col26, #T_eefab_row16_col27, #T_eefab_row17_col0, #T_eefab_row17_col1, #T_eefab_row17_col2, #T_eefab_row17_col3, #T_eefab_row17_col4, #T_eefab_row17_col5, #T_eefab_row17_col6, #T_eefab_row17_col7, #T_eefab_row17_col8, #T_eefab_row17_col9, #T_eefab_row17_col10, #T_eefab_row17_col11, #T_eefab_row17_col12, #T_eefab_row17_col13, #T_eefab_row17_col14, #T_eefab_row17_col15, #T_eefab_row17_col16, #T_eefab_row17_col21, #T_eefab_row17_col22, #T_eefab_row17_col23, #T_eefab_row17_col24, #T_eefab_row17_col25, #T_eefab_row17_col26, #T_eefab_row17_col27, #T_eefab_row18_col0, #T_eefab_row18_col1, #T_eefab_row18_col2, #T_eefab_row18_col3, #T_eefab_row18_col4, #T_eefab_row18_col5, #T_eefab_row18_col6, #T_eefab_row18_col7, #T_eefab_row18_col8, #T_eefab_row18_col9, #T_eefab_row18_col10, #T_eefab_row18_col11, #T_eefab_row18_col12, #T_eefab_row18_col13, #T_eefab_row18_col14, #T_eefab_row18_col15, #T_eefab_row18_col21, #T_eefab_row18_col22, #T_eefab_row18_col23, #T_eefab_row18_col24, #T_eefab_row18_col25, #T_eefab_row18_col26, #T_eefab_row18_col27, #T_eefab_row19_col0, #T_eefab_row19_col1, #T_eefab_row19_col2, #T_eefab_row19_col3, #T_eefab_row19_col4, #T_eefab_row19_col5, #T_eefab_row19_col6, #T_eefab_row19_col7, #T_eefab_row19_col8, #T_eefab_row19_col9, #T_eefab_row19_col10, #T_eefab_row19_col11, #T_eefab_row19_col12, #T_eefab_row19_col13, #T_eefab_row19_col14, #T_eefab_row19_col21, #T_eefab_row19_col22, #T_eefab_row19_col23, #T_eefab_row19_col24, #T_eefab_row19_col25, #T_eefab_row19_col26, #T_eefab_row19_col27, #T_eefab_row20_col0, #T_eefab_row20_col1, #T_eefab_row20_col2, #T_eefab_row20_col3, #T_eefab_row20_col4, #T_eefab_row20_col5, #T_eefab_row20_col6, #T_eefab_row20_col7, #T_eefab_row20_col8, #T_eefab_row20_col9, #T_eefab_row20_col10, #T_eefab_row20_col11, #T_eefab_row20_col12, #T_eefab_row20_col13, #T_eefab_row20_col20, #T_eefab_row20_col21, #T_eefab_row20_col22, #T_eefab_row20_col23, #T_eefab_row20_col24, #T_eefab_row20_col25, #T_eefab_row20_col26, #T_eefab_row20_col27, #T_eefab_row21_col0, #T_eefab_row21_col1, #T_eefab_row21_col2, #T_eefab_row21_col3, #T_eefab_row21_col4, #T_eefab_row21_col5, #T_eefab_row21_col6, #T_eefab_row21_col7, #T_eefab_row21_col8, #T_eefab_row21_col9, #T_eefab_row21_col10, #T_eefab_row21_col11, #T_eefab_row21_col19, #T_eefab_row21_col20, #T_eefab_row21_col21, #T_eefab_row21_col22, #T_eefab_row21_col23, #T_eefab_row21_col24, #T_eefab_row21_col25, #T_eefab_row21_col26, #T_eefab_row21_col27, #T_eefab_row22_col0, #T_eefab_row22_col1, #T_eefab_row22_col2, #T_eefab_row22_col3, #T_eefab_row22_col4, #T_eefab_row22_col5, #T_eefab_row22_col18, #T_eefab_row22_col19, #T_eefab_row22_col20, #T_eefab_row22_col21, #T_eefab_row22_col22, #T_eefab_row22_col23, #T_eefab_row22_col24, #T_eefab_row22_col25, #T_eefab_row22_col26, #T_eefab_row22_col27, #T_eefab_row23_col0, #T_eefab_row23_col1, #T_eefab_row23_col2, #T_eefab_row23_col3, #T_eefab_row23_col4, #T_eefab_row23_col5, #T_eefab_row23_col16, #T_eefab_row23_col17, #T_eefab_row23_col18, #T_eefab_row23_col19, #T_eefab_row23_col20, #T_eefab_row23_col21, #T_eefab_row23_col22, #T_eefab_row23_col23, #T_eefab_row23_col24, #T_eefab_row23_col25, #T_eefab_row23_col26, #T_eefab_row23_col27, #T_eefab_row24_col0, #T_eefab_row24_col1, #T_eefab_row24_col2, #T_eefab_row24_col3, #T_eefab_row24_col4, #T_eefab_row24_col5, #T_eefab_row24_col14, #T_eefab_row24_col15, #T_eefab_row24_col16, #T_eefab_row24_col17, #T_eefab_row24_col18, #T_eefab_row24_col19, #T_eefab_row24_col20, #T_eefab_row24_col21, #T_eefab_row24_col22, #T_eefab_row24_col23, #T_eefab_row24_col24, #T_eefab_row24_col25, #T_eefab_row24_col26, #T_eefab_row24_col27, #T_eefab_row25_col0, #T_eefab_row25_col1, #T_eefab_row25_col2, #T_eefab_row25_col3, #T_eefab_row25_col4, #T_eefab_row25_col5, #T_eefab_row25_col6, #T_eefab_row25_col7, #T_eefab_row25_col8, #T_eefab_row25_col9, #T_eefab_row25_col10, #T_eefab_row25_col11, #T_eefab_row25_col12, #T_eefab_row25_col13, #T_eefab_row25_col14, #T_eefab_row25_col15, #T_eefab_row25_col16, #T_eefab_row25_col17, #T_eefab_row25_col18, #T_eefab_row25_col19, #T_eefab_row25_col20, #T_eefab_row25_col21, #T_eefab_row25_col22, #T_eefab_row25_col23, #T_eefab_row25_col24, #T_eefab_row25_col25, #T_eefab_row25_col26, #T_eefab_row25_col27, #T_eefab_row26_col0, #T_eefab_row26_col1, #T_eefab_row26_col2, #T_eefab_row26_col3, #T_eefab_row26_col4, #T_eefab_row26_col5, #T_eefab_row26_col6, #T_eefab_row26_col7, #T_eefab_row26_col8, #T_eefab_row26_col9, #T_eefab_row26_col10, #T_eefab_row26_col11, #T_eefab_row26_col12, #T_eefab_row26_col13, #T_eefab_row26_col14, #T_eefab_row26_col15, #T_eefab_row26_col16, #T_eefab_row26_col17, #T_eefab_row26_col18, #T_eefab_row26_col19, #T_eefab_row26_col20, #T_eefab_row26_col21, #T_eefab_row26_col22, #T_eefab_row26_col23, #T_eefab_row26_col24, #T_eefab_row26_col25, #T_eefab_row26_col26, #T_eefab_row26_col27, #T_eefab_row27_col0, #T_eefab_row27_col1, #T_eefab_row27_col2, #T_eefab_row27_col3, #T_eefab_row27_col4, #T_eefab_row27_col5, #T_eefab_row27_col6, #T_eefab_row27_col7, #T_eefab_row27_col8, #T_eefab_row27_col9, #T_eefab_row27_col10, #T_eefab_row27_col11, #T_eefab_row27_col12, #T_eefab_row27_col13, #T_eefab_row27_col14, #T_eefab_row27_col15, #T_eefab_row27_col16, #T_eefab_row27_col17, #T_eefab_row27_col18, #T_eefab_row27_col19, #T_eefab_row27_col20, #T_eefab_row27_col21, #T_eefab_row27_col22, #T_eefab_row27_col23, #T_eefab_row27_col24, #T_eefab_row27_col25, #T_eefab_row27_col26, #T_eefab_row27_col27 {\n",
       "  font-size: 6pt;\n",
       "  background-color: #ffffff;\n",
       "  color: #000000;\n",
       "}\n",
       "#T_eefab_row5_col9, #T_eefab_row12_col16 {\n",
       "  font-size: 6pt;\n",
       "  background-color: #f1f1f1;\n",
       "  color: #000000;\n",
       "}\n",
       "#T_eefab_row5_col10, #T_eefab_row5_col17 {\n",
       "  font-size: 6pt;\n",
       "  background-color: #7c7c7c;\n",
       "  color: #f1f1f1;\n",
       "}\n",
       "#T_eefab_row5_col11 {\n",
       "  font-size: 6pt;\n",
       "  background-color: #4a4a4a;\n",
       "  color: #f1f1f1;\n",
       "}\n",
       "#T_eefab_row5_col12, #T_eefab_row5_col13, #T_eefab_row5_col14, #T_eefab_row6_col10, #T_eefab_row6_col11, #T_eefab_row6_col15, #T_eefab_row6_col16, #T_eefab_row6_col17, #T_eefab_row7_col8, #T_eefab_row7_col16, #T_eefab_row7_col17, #T_eefab_row8_col5, #T_eefab_row8_col6, #T_eefab_row8_col7, #T_eefab_row8_col16, #T_eefab_row8_col17, #T_eefab_row9_col16, #T_eefab_row10_col15, #T_eefab_row13_col15, #T_eefab_row14_col15, #T_eefab_row14_col16, #T_eefab_row14_col17, #T_eefab_row14_col18, #T_eefab_row15_col17, #T_eefab_row15_col18, #T_eefab_row15_col19, #T_eefab_row16_col18, #T_eefab_row16_col19, #T_eefab_row16_col20, #T_eefab_row17_col18, #T_eefab_row17_col19, #T_eefab_row18_col18, #T_eefab_row18_col19, #T_eefab_row19_col17, #T_eefab_row19_col18, #T_eefab_row20_col16, #T_eefab_row20_col17, #T_eefab_row21_col15, #T_eefab_row21_col16, #T_eefab_row23_col7, #T_eefab_row23_col8, #T_eefab_row23_col9, #T_eefab_row23_col10, #T_eefab_row23_col11, #T_eefab_row24_col7, #T_eefab_row24_col8, #T_eefab_row24_col9, #T_eefab_row24_col10, #T_eefab_row24_col11 {\n",
       "  font-size: 6pt;\n",
       "  background-color: #000000;\n",
       "  color: #f1f1f1;\n",
       "}\n",
       "#T_eefab_row5_col15 {\n",
       "  font-size: 6pt;\n",
       "  background-color: #606060;\n",
       "  color: #f1f1f1;\n",
       "}\n",
       "#T_eefab_row5_col16 {\n",
       "  font-size: 6pt;\n",
       "  background-color: #4d4d4d;\n",
       "  color: #f1f1f1;\n",
       "}\n",
       "#T_eefab_row5_col18 {\n",
       "  font-size: 6pt;\n",
       "  background-color: #bbbbbb;\n",
       "  color: #000000;\n",
       "}\n",
       "#T_eefab_row6_col7, #T_eefab_row8_col9 {\n",
       "  font-size: 6pt;\n",
       "  background-color: #e4e4e4;\n",
       "  color: #000000;\n",
       "}\n",
       "#T_eefab_row6_col8, #T_eefab_row12_col10 {\n",
       "  font-size: 6pt;\n",
       "  background-color: #6b6b6b;\n",
       "  color: #f1f1f1;\n",
       "}\n",
       "#T_eefab_row6_col9, #T_eefab_row9_col15 {\n",
       "  font-size: 6pt;\n",
       "  background-color: #222222;\n",
       "  color: #f1f1f1;\n",
       "}\n",
       "#T_eefab_row6_col12, #T_eefab_row6_col18, #T_eefab_row7_col18, #T_eefab_row21_col17 {\n",
       "  font-size: 6pt;\n",
       "  background-color: #171717;\n",
       "  color: #f1f1f1;\n",
       "}\n",
       "#T_eefab_row6_col13, #T_eefab_row7_col15 {\n",
       "  font-size: 6pt;\n",
       "  background-color: #4b4b4b;\n",
       "  color: #f1f1f1;\n",
       "}\n",
       "#T_eefab_row6_col14, #T_eefab_row11_col14, #T_eefab_row12_col12, #T_eefab_row12_col14, #T_eefab_row13_col12, #T_eefab_row13_col14, #T_eefab_row22_col14, #T_eefab_row23_col12 {\n",
       "  font-size: 6pt;\n",
       "  background-color: #010101;\n",
       "  color: #f1f1f1;\n",
       "}\n",
       "#T_eefab_row7_col5 {\n",
       "  font-size: 6pt;\n",
       "  background-color: #272727;\n",
       "  color: #f1f1f1;\n",
       "}\n",
       "#T_eefab_row7_col6 {\n",
       "  font-size: 6pt;\n",
       "  background-color: #0a0a0a;\n",
       "  color: #f1f1f1;\n",
       "}\n",
       "#T_eefab_row7_col7, #T_eefab_row18_col17 {\n",
       "  font-size: 6pt;\n",
       "  background-color: #050505;\n",
       "  color: #f1f1f1;\n",
       "}\n",
       "#T_eefab_row7_col9, #T_eefab_row12_col15, #T_eefab_row14_col19, #T_eefab_row23_col6 {\n",
       "  font-size: 6pt;\n",
       "  background-color: #545454;\n",
       "  color: #f1f1f1;\n",
       "}\n",
       "#T_eefab_row7_col10 {\n",
       "  font-size: 6pt;\n",
       "  background-color: #e6e6e6;\n",
       "  color: #000000;\n",
       "}\n",
       "#T_eefab_row7_col11, #T_eefab_row7_col14, #T_eefab_row12_col9 {\n",
       "  font-size: 6pt;\n",
       "  background-color: #fafafa;\n",
       "  color: #000000;\n",
       "}\n",
       "#T_eefab_row7_col12, #T_eefab_row15_col14, #T_eefab_row20_col19 {\n",
       "  font-size: 6pt;\n",
       "  background-color: #fbfbfb;\n",
       "  color: #000000;\n",
       "}\n",
       "#T_eefab_row7_col13 {\n",
       "  font-size: 6pt;\n",
       "  background-color: #fdfdfd;\n",
       "  color: #000000;\n",
       "}\n",
       "#T_eefab_row8_col8 {\n",
       "  font-size: 6pt;\n",
       "  background-color: #1b1b1b;\n",
       "  color: #f1f1f1;\n",
       "}\n",
       "#T_eefab_row8_col15 {\n",
       "  font-size: 6pt;\n",
       "  background-color: #4e4e4e;\n",
       "  color: #f1f1f1;\n",
       "}\n",
       "#T_eefab_row8_col18 {\n",
       "  font-size: 6pt;\n",
       "  background-color: #767676;\n",
       "  color: #f1f1f1;\n",
       "}\n",
       "#T_eefab_row9_col5 {\n",
       "  font-size: 6pt;\n",
       "  background-color: #fcfcfc;\n",
       "  color: #000000;\n",
       "}\n",
       "#T_eefab_row9_col6, #T_eefab_row9_col7, #T_eefab_row19_col20 {\n",
       "  font-size: 6pt;\n",
       "  background-color: #f6f6f6;\n",
       "  color: #000000;\n",
       "}\n",
       "#T_eefab_row9_col8, #T_eefab_row11_col11 {\n",
       "  font-size: 6pt;\n",
       "  background-color: #f8f8f8;\n",
       "  color: #000000;\n",
       "}\n",
       "#T_eefab_row9_col14, #T_eefab_row14_col11 {\n",
       "  font-size: 6pt;\n",
       "  background-color: #e8e8e8;\n",
       "  color: #000000;\n",
       "}\n",
       "#T_eefab_row9_col17, #T_eefab_row10_col16 {\n",
       "  font-size: 6pt;\n",
       "  background-color: #090909;\n",
       "  color: #f1f1f1;\n",
       "}\n",
       "#T_eefab_row9_col18 {\n",
       "  font-size: 6pt;\n",
       "  background-color: #d0d0d0;\n",
       "  color: #000000;\n",
       "}\n",
       "#T_eefab_row10_col14, #T_eefab_row11_col15, #T_eefab_row13_col10 {\n",
       "  font-size: 6pt;\n",
       "  background-color: #060606;\n",
       "  color: #f1f1f1;\n",
       "}\n",
       "#T_eefab_row10_col17 {\n",
       "  font-size: 6pt;\n",
       "  background-color: #979797;\n",
       "  color: #f1f1f1;\n",
       "}\n",
       "#T_eefab_row11_col12 {\n",
       "  font-size: 6pt;\n",
       "  background-color: #b6b6b6;\n",
       "  color: #000000;\n",
       "}\n",
       "#T_eefab_row11_col13 {\n",
       "  font-size: 6pt;\n",
       "  background-color: #252525;\n",
       "  color: #f1f1f1;\n",
       "}\n",
       "#T_eefab_row11_col16 {\n",
       "  font-size: 6pt;\n",
       "  background-color: #999999;\n",
       "  color: #f1f1f1;\n",
       "}\n",
       "#T_eefab_row12_col11, #T_eefab_row22_col12 {\n",
       "  font-size: 6pt;\n",
       "  background-color: #101010;\n",
       "  color: #f1f1f1;\n",
       "}\n",
       "#T_eefab_row12_col13, #T_eefab_row13_col13, #T_eefab_row21_col14, #T_eefab_row22_col13, #T_eefab_row23_col13 {\n",
       "  font-size: 6pt;\n",
       "  background-color: #020202;\n",
       "  color: #f1f1f1;\n",
       "}\n",
       "#T_eefab_row13_col9 {\n",
       "  font-size: 6pt;\n",
       "  background-color: #f7f7f7;\n",
       "  color: #000000;\n",
       "}\n",
       "#T_eefab_row13_col11, #T_eefab_row22_col15 {\n",
       "  font-size: 6pt;\n",
       "  background-color: #030303;\n",
       "  color: #f1f1f1;\n",
       "}\n",
       "#T_eefab_row13_col16 {\n",
       "  font-size: 6pt;\n",
       "  background-color: #181818;\n",
       "  color: #f1f1f1;\n",
       "}\n",
       "#T_eefab_row13_col17 {\n",
       "  font-size: 6pt;\n",
       "  background-color: #303030;\n",
       "  color: #f1f1f1;\n",
       "}\n",
       "#T_eefab_row13_col18 {\n",
       "  font-size: 6pt;\n",
       "  background-color: #a9a9a9;\n",
       "  color: #f1f1f1;\n",
       "}\n",
       "#T_eefab_row13_col19 {\n",
       "  font-size: 6pt;\n",
       "  background-color: #fefefe;\n",
       "  color: #000000;\n",
       "}\n",
       "#T_eefab_row14_col12, #T_eefab_row14_col13, #T_eefab_row20_col14 {\n",
       "  font-size: 6pt;\n",
       "  background-color: #bababa;\n",
       "  color: #000000;\n",
       "}\n",
       "#T_eefab_row14_col14 {\n",
       "  font-size: 6pt;\n",
       "  background-color: #393939;\n",
       "  color: #f1f1f1;\n",
       "}\n",
       "#T_eefab_row14_col20 {\n",
       "  font-size: 6pt;\n",
       "  background-color: #eaeaea;\n",
       "  color: #000000;\n",
       "}\n",
       "#T_eefab_row15_col15 {\n",
       "  font-size: 6pt;\n",
       "  background-color: #e2e2e2;\n",
       "  color: #000000;\n",
       "}\n",
       "#T_eefab_row15_col16 {\n",
       "  font-size: 6pt;\n",
       "  background-color: #9f9f9f;\n",
       "  color: #f1f1f1;\n",
       "}\n",
       "#T_eefab_row15_col20 {\n",
       "  font-size: 6pt;\n",
       "  background-color: #898989;\n",
       "  color: #f1f1f1;\n",
       "}\n",
       "#T_eefab_row16_col17 {\n",
       "  font-size: 6pt;\n",
       "  background-color: #585858;\n",
       "  color: #f1f1f1;\n",
       "}\n",
       "#T_eefab_row17_col17 {\n",
       "  font-size: 6pt;\n",
       "  background-color: #5a5a5a;\n",
       "  color: #f1f1f1;\n",
       "}\n",
       "#T_eefab_row17_col20 {\n",
       "  font-size: 6pt;\n",
       "  background-color: #525252;\n",
       "  color: #f1f1f1;\n",
       "}\n",
       "#T_eefab_row18_col16, #T_eefab_row23_col15 {\n",
       "  font-size: 6pt;\n",
       "  background-color: #c5c5c5;\n",
       "  color: #000000;\n",
       "}\n",
       "#T_eefab_row18_col20 {\n",
       "  font-size: 6pt;\n",
       "  background-color: #d7d7d7;\n",
       "  color: #000000;\n",
       "}\n",
       "#T_eefab_row19_col15, #T_eefab_row22_col9 {\n",
       "  font-size: 6pt;\n",
       "  background-color: #dcdcdc;\n",
       "  color: #000000;\n",
       "}\n",
       "#T_eefab_row19_col16 {\n",
       "  font-size: 6pt;\n",
       "  background-color: #2f2f2f;\n",
       "  color: #f1f1f1;\n",
       "}\n",
       "#T_eefab_row19_col19 {\n",
       "  font-size: 6pt;\n",
       "  background-color: #636363;\n",
       "  color: #f1f1f1;\n",
       "}\n",
       "#T_eefab_row20_col15 {\n",
       "  font-size: 6pt;\n",
       "  background-color: #070707;\n",
       "  color: #f1f1f1;\n",
       "}\n",
       "#T_eefab_row20_col18 {\n",
       "  font-size: 6pt;\n",
       "  background-color: #1f1f1f;\n",
       "  color: #f1f1f1;\n",
       "}\n",
       "#T_eefab_row21_col12, #T_eefab_row22_col6, #T_eefab_row22_col8 {\n",
       "  font-size: 6pt;\n",
       "  background-color: #e9e9e9;\n",
       "  color: #000000;\n",
       "}\n",
       "#T_eefab_row21_col13 {\n",
       "  font-size: 6pt;\n",
       "  background-color: #7d7d7d;\n",
       "  color: #f1f1f1;\n",
       "}\n",
       "#T_eefab_row21_col18 {\n",
       "  font-size: 6pt;\n",
       "  background-color: #e1e1e1;\n",
       "  color: #000000;\n",
       "}\n",
       "#T_eefab_row22_col7, #T_eefab_row22_col10 {\n",
       "  font-size: 6pt;\n",
       "  background-color: #a4a4a4;\n",
       "  color: #f1f1f1;\n",
       "}\n",
       "#T_eefab_row22_col11 {\n",
       "  font-size: 6pt;\n",
       "  background-color: #727272;\n",
       "  color: #f1f1f1;\n",
       "}\n",
       "#T_eefab_row22_col16 {\n",
       "  font-size: 6pt;\n",
       "  background-color: #616161;\n",
       "  color: #f1f1f1;\n",
       "}\n",
       "#T_eefab_row22_col17 {\n",
       "  font-size: 6pt;\n",
       "  background-color: #f3f3f3;\n",
       "  color: #000000;\n",
       "}\n",
       "#T_eefab_row23_col14 {\n",
       "  font-size: 6pt;\n",
       "  background-color: #484848;\n",
       "  color: #f1f1f1;\n",
       "}\n",
       "#T_eefab_row24_col6 {\n",
       "  font-size: 6pt;\n",
       "  background-color: #b3b3b3;\n",
       "  color: #000000;\n",
       "}\n",
       "#T_eefab_row24_col12 {\n",
       "  font-size: 6pt;\n",
       "  background-color: #1a1a1a;\n",
       "  color: #f1f1f1;\n",
       "}\n",
       "#T_eefab_row24_col13 {\n",
       "  font-size: 6pt;\n",
       "  background-color: #d6d6d6;\n",
       "  color: #000000;\n",
       "}\n",
       "</style>\n",
       "<table id=\"T_eefab\">\n",
       "  <thead>\n",
       "    <tr>\n",
       "      <th class=\"blank level0\" >&nbsp;</th>\n",
       "      <th id=\"T_eefab_level0_col0\" class=\"col_heading level0 col0\" >0</th>\n",
       "      <th id=\"T_eefab_level0_col1\" class=\"col_heading level0 col1\" >1</th>\n",
       "      <th id=\"T_eefab_level0_col2\" class=\"col_heading level0 col2\" >2</th>\n",
       "      <th id=\"T_eefab_level0_col3\" class=\"col_heading level0 col3\" >3</th>\n",
       "      <th id=\"T_eefab_level0_col4\" class=\"col_heading level0 col4\" >4</th>\n",
       "      <th id=\"T_eefab_level0_col5\" class=\"col_heading level0 col5\" >5</th>\n",
       "      <th id=\"T_eefab_level0_col6\" class=\"col_heading level0 col6\" >6</th>\n",
       "      <th id=\"T_eefab_level0_col7\" class=\"col_heading level0 col7\" >7</th>\n",
       "      <th id=\"T_eefab_level0_col8\" class=\"col_heading level0 col8\" >8</th>\n",
       "      <th id=\"T_eefab_level0_col9\" class=\"col_heading level0 col9\" >9</th>\n",
       "      <th id=\"T_eefab_level0_col10\" class=\"col_heading level0 col10\" >10</th>\n",
       "      <th id=\"T_eefab_level0_col11\" class=\"col_heading level0 col11\" >11</th>\n",
       "      <th id=\"T_eefab_level0_col12\" class=\"col_heading level0 col12\" >12</th>\n",
       "      <th id=\"T_eefab_level0_col13\" class=\"col_heading level0 col13\" >13</th>\n",
       "      <th id=\"T_eefab_level0_col14\" class=\"col_heading level0 col14\" >14</th>\n",
       "      <th id=\"T_eefab_level0_col15\" class=\"col_heading level0 col15\" >15</th>\n",
       "      <th id=\"T_eefab_level0_col16\" class=\"col_heading level0 col16\" >16</th>\n",
       "      <th id=\"T_eefab_level0_col17\" class=\"col_heading level0 col17\" >17</th>\n",
       "      <th id=\"T_eefab_level0_col18\" class=\"col_heading level0 col18\" >18</th>\n",
       "      <th id=\"T_eefab_level0_col19\" class=\"col_heading level0 col19\" >19</th>\n",
       "      <th id=\"T_eefab_level0_col20\" class=\"col_heading level0 col20\" >20</th>\n",
       "      <th id=\"T_eefab_level0_col21\" class=\"col_heading level0 col21\" >21</th>\n",
       "      <th id=\"T_eefab_level0_col22\" class=\"col_heading level0 col22\" >22</th>\n",
       "      <th id=\"T_eefab_level0_col23\" class=\"col_heading level0 col23\" >23</th>\n",
       "      <th id=\"T_eefab_level0_col24\" class=\"col_heading level0 col24\" >24</th>\n",
       "      <th id=\"T_eefab_level0_col25\" class=\"col_heading level0 col25\" >25</th>\n",
       "      <th id=\"T_eefab_level0_col26\" class=\"col_heading level0 col26\" >26</th>\n",
       "      <th id=\"T_eefab_level0_col27\" class=\"col_heading level0 col27\" >27</th>\n",
       "    </tr>\n",
       "  </thead>\n",
       "  <tbody>\n",
       "    <tr>\n",
       "      <th id=\"T_eefab_level0_row0\" class=\"row_heading level0 row0\" >0</th>\n",
       "      <td id=\"T_eefab_row0_col0\" class=\"data row0 col0\" >0</td>\n",
       "      <td id=\"T_eefab_row0_col1\" class=\"data row0 col1\" >0</td>\n",
       "      <td id=\"T_eefab_row0_col2\" class=\"data row0 col2\" >0</td>\n",
       "      <td id=\"T_eefab_row0_col3\" class=\"data row0 col3\" >0</td>\n",
       "      <td id=\"T_eefab_row0_col4\" class=\"data row0 col4\" >0</td>\n",
       "      <td id=\"T_eefab_row0_col5\" class=\"data row0 col5\" >0</td>\n",
       "      <td id=\"T_eefab_row0_col6\" class=\"data row0 col6\" >0</td>\n",
       "      <td id=\"T_eefab_row0_col7\" class=\"data row0 col7\" >0</td>\n",
       "      <td id=\"T_eefab_row0_col8\" class=\"data row0 col8\" >0</td>\n",
       "      <td id=\"T_eefab_row0_col9\" class=\"data row0 col9\" >0</td>\n",
       "      <td id=\"T_eefab_row0_col10\" class=\"data row0 col10\" >0</td>\n",
       "      <td id=\"T_eefab_row0_col11\" class=\"data row0 col11\" >0</td>\n",
       "      <td id=\"T_eefab_row0_col12\" class=\"data row0 col12\" >0</td>\n",
       "      <td id=\"T_eefab_row0_col13\" class=\"data row0 col13\" >0</td>\n",
       "      <td id=\"T_eefab_row0_col14\" class=\"data row0 col14\" >0</td>\n",
       "      <td id=\"T_eefab_row0_col15\" class=\"data row0 col15\" >0</td>\n",
       "      <td id=\"T_eefab_row0_col16\" class=\"data row0 col16\" >0</td>\n",
       "      <td id=\"T_eefab_row0_col17\" class=\"data row0 col17\" >0</td>\n",
       "      <td id=\"T_eefab_row0_col18\" class=\"data row0 col18\" >0</td>\n",
       "      <td id=\"T_eefab_row0_col19\" class=\"data row0 col19\" >0</td>\n",
       "      <td id=\"T_eefab_row0_col20\" class=\"data row0 col20\" >0</td>\n",
       "      <td id=\"T_eefab_row0_col21\" class=\"data row0 col21\" >0</td>\n",
       "      <td id=\"T_eefab_row0_col22\" class=\"data row0 col22\" >0</td>\n",
       "      <td id=\"T_eefab_row0_col23\" class=\"data row0 col23\" >0</td>\n",
       "      <td id=\"T_eefab_row0_col24\" class=\"data row0 col24\" >0</td>\n",
       "      <td id=\"T_eefab_row0_col25\" class=\"data row0 col25\" >0</td>\n",
       "      <td id=\"T_eefab_row0_col26\" class=\"data row0 col26\" >0</td>\n",
       "      <td id=\"T_eefab_row0_col27\" class=\"data row0 col27\" >0</td>\n",
       "    </tr>\n",
       "    <tr>\n",
       "      <th id=\"T_eefab_level0_row1\" class=\"row_heading level0 row1\" >1</th>\n",
       "      <td id=\"T_eefab_row1_col0\" class=\"data row1 col0\" >0</td>\n",
       "      <td id=\"T_eefab_row1_col1\" class=\"data row1 col1\" >0</td>\n",
       "      <td id=\"T_eefab_row1_col2\" class=\"data row1 col2\" >0</td>\n",
       "      <td id=\"T_eefab_row1_col3\" class=\"data row1 col3\" >0</td>\n",
       "      <td id=\"T_eefab_row1_col4\" class=\"data row1 col4\" >0</td>\n",
       "      <td id=\"T_eefab_row1_col5\" class=\"data row1 col5\" >0</td>\n",
       "      <td id=\"T_eefab_row1_col6\" class=\"data row1 col6\" >0</td>\n",
       "      <td id=\"T_eefab_row1_col7\" class=\"data row1 col7\" >0</td>\n",
       "      <td id=\"T_eefab_row1_col8\" class=\"data row1 col8\" >0</td>\n",
       "      <td id=\"T_eefab_row1_col9\" class=\"data row1 col9\" >0</td>\n",
       "      <td id=\"T_eefab_row1_col10\" class=\"data row1 col10\" >0</td>\n",
       "      <td id=\"T_eefab_row1_col11\" class=\"data row1 col11\" >0</td>\n",
       "      <td id=\"T_eefab_row1_col12\" class=\"data row1 col12\" >0</td>\n",
       "      <td id=\"T_eefab_row1_col13\" class=\"data row1 col13\" >0</td>\n",
       "      <td id=\"T_eefab_row1_col14\" class=\"data row1 col14\" >0</td>\n",
       "      <td id=\"T_eefab_row1_col15\" class=\"data row1 col15\" >0</td>\n",
       "      <td id=\"T_eefab_row1_col16\" class=\"data row1 col16\" >0</td>\n",
       "      <td id=\"T_eefab_row1_col17\" class=\"data row1 col17\" >0</td>\n",
       "      <td id=\"T_eefab_row1_col18\" class=\"data row1 col18\" >0</td>\n",
       "      <td id=\"T_eefab_row1_col19\" class=\"data row1 col19\" >0</td>\n",
       "      <td id=\"T_eefab_row1_col20\" class=\"data row1 col20\" >0</td>\n",
       "      <td id=\"T_eefab_row1_col21\" class=\"data row1 col21\" >0</td>\n",
       "      <td id=\"T_eefab_row1_col22\" class=\"data row1 col22\" >0</td>\n",
       "      <td id=\"T_eefab_row1_col23\" class=\"data row1 col23\" >0</td>\n",
       "      <td id=\"T_eefab_row1_col24\" class=\"data row1 col24\" >0</td>\n",
       "      <td id=\"T_eefab_row1_col25\" class=\"data row1 col25\" >0</td>\n",
       "      <td id=\"T_eefab_row1_col26\" class=\"data row1 col26\" >0</td>\n",
       "      <td id=\"T_eefab_row1_col27\" class=\"data row1 col27\" >0</td>\n",
       "    </tr>\n",
       "    <tr>\n",
       "      <th id=\"T_eefab_level0_row2\" class=\"row_heading level0 row2\" >2</th>\n",
       "      <td id=\"T_eefab_row2_col0\" class=\"data row2 col0\" >0</td>\n",
       "      <td id=\"T_eefab_row2_col1\" class=\"data row2 col1\" >0</td>\n",
       "      <td id=\"T_eefab_row2_col2\" class=\"data row2 col2\" >0</td>\n",
       "      <td id=\"T_eefab_row2_col3\" class=\"data row2 col3\" >0</td>\n",
       "      <td id=\"T_eefab_row2_col4\" class=\"data row2 col4\" >0</td>\n",
       "      <td id=\"T_eefab_row2_col5\" class=\"data row2 col5\" >0</td>\n",
       "      <td id=\"T_eefab_row2_col6\" class=\"data row2 col6\" >0</td>\n",
       "      <td id=\"T_eefab_row2_col7\" class=\"data row2 col7\" >0</td>\n",
       "      <td id=\"T_eefab_row2_col8\" class=\"data row2 col8\" >0</td>\n",
       "      <td id=\"T_eefab_row2_col9\" class=\"data row2 col9\" >0</td>\n",
       "      <td id=\"T_eefab_row2_col10\" class=\"data row2 col10\" >0</td>\n",
       "      <td id=\"T_eefab_row2_col11\" class=\"data row2 col11\" >0</td>\n",
       "      <td id=\"T_eefab_row2_col12\" class=\"data row2 col12\" >0</td>\n",
       "      <td id=\"T_eefab_row2_col13\" class=\"data row2 col13\" >0</td>\n",
       "      <td id=\"T_eefab_row2_col14\" class=\"data row2 col14\" >0</td>\n",
       "      <td id=\"T_eefab_row2_col15\" class=\"data row2 col15\" >0</td>\n",
       "      <td id=\"T_eefab_row2_col16\" class=\"data row2 col16\" >0</td>\n",
       "      <td id=\"T_eefab_row2_col17\" class=\"data row2 col17\" >0</td>\n",
       "      <td id=\"T_eefab_row2_col18\" class=\"data row2 col18\" >0</td>\n",
       "      <td id=\"T_eefab_row2_col19\" class=\"data row2 col19\" >0</td>\n",
       "      <td id=\"T_eefab_row2_col20\" class=\"data row2 col20\" >0</td>\n",
       "      <td id=\"T_eefab_row2_col21\" class=\"data row2 col21\" >0</td>\n",
       "      <td id=\"T_eefab_row2_col22\" class=\"data row2 col22\" >0</td>\n",
       "      <td id=\"T_eefab_row2_col23\" class=\"data row2 col23\" >0</td>\n",
       "      <td id=\"T_eefab_row2_col24\" class=\"data row2 col24\" >0</td>\n",
       "      <td id=\"T_eefab_row2_col25\" class=\"data row2 col25\" >0</td>\n",
       "      <td id=\"T_eefab_row2_col26\" class=\"data row2 col26\" >0</td>\n",
       "      <td id=\"T_eefab_row2_col27\" class=\"data row2 col27\" >0</td>\n",
       "    </tr>\n",
       "    <tr>\n",
       "      <th id=\"T_eefab_level0_row3\" class=\"row_heading level0 row3\" >3</th>\n",
       "      <td id=\"T_eefab_row3_col0\" class=\"data row3 col0\" >0</td>\n",
       "      <td id=\"T_eefab_row3_col1\" class=\"data row3 col1\" >0</td>\n",
       "      <td id=\"T_eefab_row3_col2\" class=\"data row3 col2\" >0</td>\n",
       "      <td id=\"T_eefab_row3_col3\" class=\"data row3 col3\" >0</td>\n",
       "      <td id=\"T_eefab_row3_col4\" class=\"data row3 col4\" >0</td>\n",
       "      <td id=\"T_eefab_row3_col5\" class=\"data row3 col5\" >0</td>\n",
       "      <td id=\"T_eefab_row3_col6\" class=\"data row3 col6\" >0</td>\n",
       "      <td id=\"T_eefab_row3_col7\" class=\"data row3 col7\" >0</td>\n",
       "      <td id=\"T_eefab_row3_col8\" class=\"data row3 col8\" >0</td>\n",
       "      <td id=\"T_eefab_row3_col9\" class=\"data row3 col9\" >0</td>\n",
       "      <td id=\"T_eefab_row3_col10\" class=\"data row3 col10\" >0</td>\n",
       "      <td id=\"T_eefab_row3_col11\" class=\"data row3 col11\" >0</td>\n",
       "      <td id=\"T_eefab_row3_col12\" class=\"data row3 col12\" >0</td>\n",
       "      <td id=\"T_eefab_row3_col13\" class=\"data row3 col13\" >0</td>\n",
       "      <td id=\"T_eefab_row3_col14\" class=\"data row3 col14\" >0</td>\n",
       "      <td id=\"T_eefab_row3_col15\" class=\"data row3 col15\" >0</td>\n",
       "      <td id=\"T_eefab_row3_col16\" class=\"data row3 col16\" >0</td>\n",
       "      <td id=\"T_eefab_row3_col17\" class=\"data row3 col17\" >0</td>\n",
       "      <td id=\"T_eefab_row3_col18\" class=\"data row3 col18\" >0</td>\n",
       "      <td id=\"T_eefab_row3_col19\" class=\"data row3 col19\" >0</td>\n",
       "      <td id=\"T_eefab_row3_col20\" class=\"data row3 col20\" >0</td>\n",
       "      <td id=\"T_eefab_row3_col21\" class=\"data row3 col21\" >0</td>\n",
       "      <td id=\"T_eefab_row3_col22\" class=\"data row3 col22\" >0</td>\n",
       "      <td id=\"T_eefab_row3_col23\" class=\"data row3 col23\" >0</td>\n",
       "      <td id=\"T_eefab_row3_col24\" class=\"data row3 col24\" >0</td>\n",
       "      <td id=\"T_eefab_row3_col25\" class=\"data row3 col25\" >0</td>\n",
       "      <td id=\"T_eefab_row3_col26\" class=\"data row3 col26\" >0</td>\n",
       "      <td id=\"T_eefab_row3_col27\" class=\"data row3 col27\" >0</td>\n",
       "    </tr>\n",
       "    <tr>\n",
       "      <th id=\"T_eefab_level0_row4\" class=\"row_heading level0 row4\" >4</th>\n",
       "      <td id=\"T_eefab_row4_col0\" class=\"data row4 col0\" >0</td>\n",
       "      <td id=\"T_eefab_row4_col1\" class=\"data row4 col1\" >0</td>\n",
       "      <td id=\"T_eefab_row4_col2\" class=\"data row4 col2\" >0</td>\n",
       "      <td id=\"T_eefab_row4_col3\" class=\"data row4 col3\" >0</td>\n",
       "      <td id=\"T_eefab_row4_col4\" class=\"data row4 col4\" >0</td>\n",
       "      <td id=\"T_eefab_row4_col5\" class=\"data row4 col5\" >0</td>\n",
       "      <td id=\"T_eefab_row4_col6\" class=\"data row4 col6\" >0</td>\n",
       "      <td id=\"T_eefab_row4_col7\" class=\"data row4 col7\" >0</td>\n",
       "      <td id=\"T_eefab_row4_col8\" class=\"data row4 col8\" >0</td>\n",
       "      <td id=\"T_eefab_row4_col9\" class=\"data row4 col9\" >0</td>\n",
       "      <td id=\"T_eefab_row4_col10\" class=\"data row4 col10\" >0</td>\n",
       "      <td id=\"T_eefab_row4_col11\" class=\"data row4 col11\" >0</td>\n",
       "      <td id=\"T_eefab_row4_col12\" class=\"data row4 col12\" >0</td>\n",
       "      <td id=\"T_eefab_row4_col13\" class=\"data row4 col13\" >0</td>\n",
       "      <td id=\"T_eefab_row4_col14\" class=\"data row4 col14\" >0</td>\n",
       "      <td id=\"T_eefab_row4_col15\" class=\"data row4 col15\" >0</td>\n",
       "      <td id=\"T_eefab_row4_col16\" class=\"data row4 col16\" >0</td>\n",
       "      <td id=\"T_eefab_row4_col17\" class=\"data row4 col17\" >0</td>\n",
       "      <td id=\"T_eefab_row4_col18\" class=\"data row4 col18\" >0</td>\n",
       "      <td id=\"T_eefab_row4_col19\" class=\"data row4 col19\" >0</td>\n",
       "      <td id=\"T_eefab_row4_col20\" class=\"data row4 col20\" >0</td>\n",
       "      <td id=\"T_eefab_row4_col21\" class=\"data row4 col21\" >0</td>\n",
       "      <td id=\"T_eefab_row4_col22\" class=\"data row4 col22\" >0</td>\n",
       "      <td id=\"T_eefab_row4_col23\" class=\"data row4 col23\" >0</td>\n",
       "      <td id=\"T_eefab_row4_col24\" class=\"data row4 col24\" >0</td>\n",
       "      <td id=\"T_eefab_row4_col25\" class=\"data row4 col25\" >0</td>\n",
       "      <td id=\"T_eefab_row4_col26\" class=\"data row4 col26\" >0</td>\n",
       "      <td id=\"T_eefab_row4_col27\" class=\"data row4 col27\" >0</td>\n",
       "    </tr>\n",
       "    <tr>\n",
       "      <th id=\"T_eefab_level0_row5\" class=\"row_heading level0 row5\" >5</th>\n",
       "      <td id=\"T_eefab_row5_col0\" class=\"data row5 col0\" >0</td>\n",
       "      <td id=\"T_eefab_row5_col1\" class=\"data row5 col1\" >0</td>\n",
       "      <td id=\"T_eefab_row5_col2\" class=\"data row5 col2\" >0</td>\n",
       "      <td id=\"T_eefab_row5_col3\" class=\"data row5 col3\" >0</td>\n",
       "      <td id=\"T_eefab_row5_col4\" class=\"data row5 col4\" >0</td>\n",
       "      <td id=\"T_eefab_row5_col5\" class=\"data row5 col5\" >0</td>\n",
       "      <td id=\"T_eefab_row5_col6\" class=\"data row5 col6\" >0</td>\n",
       "      <td id=\"T_eefab_row5_col7\" class=\"data row5 col7\" >0</td>\n",
       "      <td id=\"T_eefab_row5_col8\" class=\"data row5 col8\" >0</td>\n",
       "      <td id=\"T_eefab_row5_col9\" class=\"data row5 col9\" >29</td>\n",
       "      <td id=\"T_eefab_row5_col10\" class=\"data row5 col10\" >150</td>\n",
       "      <td id=\"T_eefab_row5_col11\" class=\"data row5 col11\" >195</td>\n",
       "      <td id=\"T_eefab_row5_col12\" class=\"data row5 col12\" >254</td>\n",
       "      <td id=\"T_eefab_row5_col13\" class=\"data row5 col13\" >255</td>\n",
       "      <td id=\"T_eefab_row5_col14\" class=\"data row5 col14\" >254</td>\n",
       "      <td id=\"T_eefab_row5_col15\" class=\"data row5 col15\" >176</td>\n",
       "      <td id=\"T_eefab_row5_col16\" class=\"data row5 col16\" >193</td>\n",
       "      <td id=\"T_eefab_row5_col17\" class=\"data row5 col17\" >150</td>\n",
       "      <td id=\"T_eefab_row5_col18\" class=\"data row5 col18\" >96</td>\n",
       "      <td id=\"T_eefab_row5_col19\" class=\"data row5 col19\" >0</td>\n",
       "      <td id=\"T_eefab_row5_col20\" class=\"data row5 col20\" >0</td>\n",
       "      <td id=\"T_eefab_row5_col21\" class=\"data row5 col21\" >0</td>\n",
       "      <td id=\"T_eefab_row5_col22\" class=\"data row5 col22\" >0</td>\n",
       "      <td id=\"T_eefab_row5_col23\" class=\"data row5 col23\" >0</td>\n",
       "      <td id=\"T_eefab_row5_col24\" class=\"data row5 col24\" >0</td>\n",
       "      <td id=\"T_eefab_row5_col25\" class=\"data row5 col25\" >0</td>\n",
       "      <td id=\"T_eefab_row5_col26\" class=\"data row5 col26\" >0</td>\n",
       "      <td id=\"T_eefab_row5_col27\" class=\"data row5 col27\" >0</td>\n",
       "    </tr>\n",
       "    <tr>\n",
       "      <th id=\"T_eefab_level0_row6\" class=\"row_heading level0 row6\" >6</th>\n",
       "      <td id=\"T_eefab_row6_col0\" class=\"data row6 col0\" >0</td>\n",
       "      <td id=\"T_eefab_row6_col1\" class=\"data row6 col1\" >0</td>\n",
       "      <td id=\"T_eefab_row6_col2\" class=\"data row6 col2\" >0</td>\n",
       "      <td id=\"T_eefab_row6_col3\" class=\"data row6 col3\" >0</td>\n",
       "      <td id=\"T_eefab_row6_col4\" class=\"data row6 col4\" >0</td>\n",
       "      <td id=\"T_eefab_row6_col5\" class=\"data row6 col5\" >0</td>\n",
       "      <td id=\"T_eefab_row6_col6\" class=\"data row6 col6\" >0</td>\n",
       "      <td id=\"T_eefab_row6_col7\" class=\"data row6 col7\" >48</td>\n",
       "      <td id=\"T_eefab_row6_col8\" class=\"data row6 col8\" >166</td>\n",
       "      <td id=\"T_eefab_row6_col9\" class=\"data row6 col9\" >224</td>\n",
       "      <td id=\"T_eefab_row6_col10\" class=\"data row6 col10\" >253</td>\n",
       "      <td id=\"T_eefab_row6_col11\" class=\"data row6 col11\" >253</td>\n",
       "      <td id=\"T_eefab_row6_col12\" class=\"data row6 col12\" >234</td>\n",
       "      <td id=\"T_eefab_row6_col13\" class=\"data row6 col13\" >196</td>\n",
       "      <td id=\"T_eefab_row6_col14\" class=\"data row6 col14\" >253</td>\n",
       "      <td id=\"T_eefab_row6_col15\" class=\"data row6 col15\" >253</td>\n",
       "      <td id=\"T_eefab_row6_col16\" class=\"data row6 col16\" >253</td>\n",
       "      <td id=\"T_eefab_row6_col17\" class=\"data row6 col17\" >253</td>\n",
       "      <td id=\"T_eefab_row6_col18\" class=\"data row6 col18\" >233</td>\n",
       "      <td id=\"T_eefab_row6_col19\" class=\"data row6 col19\" >0</td>\n",
       "      <td id=\"T_eefab_row6_col20\" class=\"data row6 col20\" >0</td>\n",
       "      <td id=\"T_eefab_row6_col21\" class=\"data row6 col21\" >0</td>\n",
       "      <td id=\"T_eefab_row6_col22\" class=\"data row6 col22\" >0</td>\n",
       "      <td id=\"T_eefab_row6_col23\" class=\"data row6 col23\" >0</td>\n",
       "      <td id=\"T_eefab_row6_col24\" class=\"data row6 col24\" >0</td>\n",
       "      <td id=\"T_eefab_row6_col25\" class=\"data row6 col25\" >0</td>\n",
       "      <td id=\"T_eefab_row6_col26\" class=\"data row6 col26\" >0</td>\n",
       "      <td id=\"T_eefab_row6_col27\" class=\"data row6 col27\" >0</td>\n",
       "    </tr>\n",
       "    <tr>\n",
       "      <th id=\"T_eefab_level0_row7\" class=\"row_heading level0 row7\" >7</th>\n",
       "      <td id=\"T_eefab_row7_col0\" class=\"data row7 col0\" >0</td>\n",
       "      <td id=\"T_eefab_row7_col1\" class=\"data row7 col1\" >0</td>\n",
       "      <td id=\"T_eefab_row7_col2\" class=\"data row7 col2\" >0</td>\n",
       "      <td id=\"T_eefab_row7_col3\" class=\"data row7 col3\" >0</td>\n",
       "      <td id=\"T_eefab_row7_col4\" class=\"data row7 col4\" >0</td>\n",
       "      <td id=\"T_eefab_row7_col5\" class=\"data row7 col5\" >93</td>\n",
       "      <td id=\"T_eefab_row7_col6\" class=\"data row7 col6\" >244</td>\n",
       "      <td id=\"T_eefab_row7_col7\" class=\"data row7 col7\" >249</td>\n",
       "      <td id=\"T_eefab_row7_col8\" class=\"data row7 col8\" >253</td>\n",
       "      <td id=\"T_eefab_row7_col9\" class=\"data row7 col9\" >187</td>\n",
       "      <td id=\"T_eefab_row7_col10\" class=\"data row7 col10\" >46</td>\n",
       "      <td id=\"T_eefab_row7_col11\" class=\"data row7 col11\" >10</td>\n",
       "      <td id=\"T_eefab_row7_col12\" class=\"data row7 col12\" >8</td>\n",
       "      <td id=\"T_eefab_row7_col13\" class=\"data row7 col13\" >4</td>\n",
       "      <td id=\"T_eefab_row7_col14\" class=\"data row7 col14\" >10</td>\n",
       "      <td id=\"T_eefab_row7_col15\" class=\"data row7 col15\" >194</td>\n",
       "      <td id=\"T_eefab_row7_col16\" class=\"data row7 col16\" >253</td>\n",
       "      <td id=\"T_eefab_row7_col17\" class=\"data row7 col17\" >253</td>\n",
       "      <td id=\"T_eefab_row7_col18\" class=\"data row7 col18\" >233</td>\n",
       "      <td id=\"T_eefab_row7_col19\" class=\"data row7 col19\" >0</td>\n",
       "      <td id=\"T_eefab_row7_col20\" class=\"data row7 col20\" >0</td>\n",
       "      <td id=\"T_eefab_row7_col21\" class=\"data row7 col21\" >0</td>\n",
       "      <td id=\"T_eefab_row7_col22\" class=\"data row7 col22\" >0</td>\n",
       "      <td id=\"T_eefab_row7_col23\" class=\"data row7 col23\" >0</td>\n",
       "      <td id=\"T_eefab_row7_col24\" class=\"data row7 col24\" >0</td>\n",
       "      <td id=\"T_eefab_row7_col25\" class=\"data row7 col25\" >0</td>\n",
       "      <td id=\"T_eefab_row7_col26\" class=\"data row7 col26\" >0</td>\n",
       "      <td id=\"T_eefab_row7_col27\" class=\"data row7 col27\" >0</td>\n",
       "    </tr>\n",
       "    <tr>\n",
       "      <th id=\"T_eefab_level0_row8\" class=\"row_heading level0 row8\" >8</th>\n",
       "      <td id=\"T_eefab_row8_col0\" class=\"data row8 col0\" >0</td>\n",
       "      <td id=\"T_eefab_row8_col1\" class=\"data row8 col1\" >0</td>\n",
       "      <td id=\"T_eefab_row8_col2\" class=\"data row8 col2\" >0</td>\n",
       "      <td id=\"T_eefab_row8_col3\" class=\"data row8 col3\" >0</td>\n",
       "      <td id=\"T_eefab_row8_col4\" class=\"data row8 col4\" >0</td>\n",
       "      <td id=\"T_eefab_row8_col5\" class=\"data row8 col5\" >107</td>\n",
       "      <td id=\"T_eefab_row8_col6\" class=\"data row8 col6\" >253</td>\n",
       "      <td id=\"T_eefab_row8_col7\" class=\"data row8 col7\" >253</td>\n",
       "      <td id=\"T_eefab_row8_col8\" class=\"data row8 col8\" >230</td>\n",
       "      <td id=\"T_eefab_row8_col9\" class=\"data row8 col9\" >48</td>\n",
       "      <td id=\"T_eefab_row8_col10\" class=\"data row8 col10\" >0</td>\n",
       "      <td id=\"T_eefab_row8_col11\" class=\"data row8 col11\" >0</td>\n",
       "      <td id=\"T_eefab_row8_col12\" class=\"data row8 col12\" >0</td>\n",
       "      <td id=\"T_eefab_row8_col13\" class=\"data row8 col13\" >0</td>\n",
       "      <td id=\"T_eefab_row8_col14\" class=\"data row8 col14\" >0</td>\n",
       "      <td id=\"T_eefab_row8_col15\" class=\"data row8 col15\" >192</td>\n",
       "      <td id=\"T_eefab_row8_col16\" class=\"data row8 col16\" >253</td>\n",
       "      <td id=\"T_eefab_row8_col17\" class=\"data row8 col17\" >253</td>\n",
       "      <td id=\"T_eefab_row8_col18\" class=\"data row8 col18\" >156</td>\n",
       "      <td id=\"T_eefab_row8_col19\" class=\"data row8 col19\" >0</td>\n",
       "      <td id=\"T_eefab_row8_col20\" class=\"data row8 col20\" >0</td>\n",
       "      <td id=\"T_eefab_row8_col21\" class=\"data row8 col21\" >0</td>\n",
       "      <td id=\"T_eefab_row8_col22\" class=\"data row8 col22\" >0</td>\n",
       "      <td id=\"T_eefab_row8_col23\" class=\"data row8 col23\" >0</td>\n",
       "      <td id=\"T_eefab_row8_col24\" class=\"data row8 col24\" >0</td>\n",
       "      <td id=\"T_eefab_row8_col25\" class=\"data row8 col25\" >0</td>\n",
       "      <td id=\"T_eefab_row8_col26\" class=\"data row8 col26\" >0</td>\n",
       "      <td id=\"T_eefab_row8_col27\" class=\"data row8 col27\" >0</td>\n",
       "    </tr>\n",
       "    <tr>\n",
       "      <th id=\"T_eefab_level0_row9\" class=\"row_heading level0 row9\" >9</th>\n",
       "      <td id=\"T_eefab_row9_col0\" class=\"data row9 col0\" >0</td>\n",
       "      <td id=\"T_eefab_row9_col1\" class=\"data row9 col1\" >0</td>\n",
       "      <td id=\"T_eefab_row9_col2\" class=\"data row9 col2\" >0</td>\n",
       "      <td id=\"T_eefab_row9_col3\" class=\"data row9 col3\" >0</td>\n",
       "      <td id=\"T_eefab_row9_col4\" class=\"data row9 col4\" >0</td>\n",
       "      <td id=\"T_eefab_row9_col5\" class=\"data row9 col5\" >3</td>\n",
       "      <td id=\"T_eefab_row9_col6\" class=\"data row9 col6\" >20</td>\n",
       "      <td id=\"T_eefab_row9_col7\" class=\"data row9 col7\" >20</td>\n",
       "      <td id=\"T_eefab_row9_col8\" class=\"data row9 col8\" >15</td>\n",
       "      <td id=\"T_eefab_row9_col9\" class=\"data row9 col9\" >0</td>\n",
       "      <td id=\"T_eefab_row9_col10\" class=\"data row9 col10\" >0</td>\n",
       "      <td id=\"T_eefab_row9_col11\" class=\"data row9 col11\" >0</td>\n",
       "      <td id=\"T_eefab_row9_col12\" class=\"data row9 col12\" >0</td>\n",
       "      <td id=\"T_eefab_row9_col13\" class=\"data row9 col13\" >0</td>\n",
       "      <td id=\"T_eefab_row9_col14\" class=\"data row9 col14\" >43</td>\n",
       "      <td id=\"T_eefab_row9_col15\" class=\"data row9 col15\" >224</td>\n",
       "      <td id=\"T_eefab_row9_col16\" class=\"data row9 col16\" >253</td>\n",
       "      <td id=\"T_eefab_row9_col17\" class=\"data row9 col17\" >245</td>\n",
       "      <td id=\"T_eefab_row9_col18\" class=\"data row9 col18\" >74</td>\n",
       "      <td id=\"T_eefab_row9_col19\" class=\"data row9 col19\" >0</td>\n",
       "      <td id=\"T_eefab_row9_col20\" class=\"data row9 col20\" >0</td>\n",
       "      <td id=\"T_eefab_row9_col21\" class=\"data row9 col21\" >0</td>\n",
       "      <td id=\"T_eefab_row9_col22\" class=\"data row9 col22\" >0</td>\n",
       "      <td id=\"T_eefab_row9_col23\" class=\"data row9 col23\" >0</td>\n",
       "      <td id=\"T_eefab_row9_col24\" class=\"data row9 col24\" >0</td>\n",
       "      <td id=\"T_eefab_row9_col25\" class=\"data row9 col25\" >0</td>\n",
       "      <td id=\"T_eefab_row9_col26\" class=\"data row9 col26\" >0</td>\n",
       "      <td id=\"T_eefab_row9_col27\" class=\"data row9 col27\" >0</td>\n",
       "    </tr>\n",
       "    <tr>\n",
       "      <th id=\"T_eefab_level0_row10\" class=\"row_heading level0 row10\" >10</th>\n",
       "      <td id=\"T_eefab_row10_col0\" class=\"data row10 col0\" >0</td>\n",
       "      <td id=\"T_eefab_row10_col1\" class=\"data row10 col1\" >0</td>\n",
       "      <td id=\"T_eefab_row10_col2\" class=\"data row10 col2\" >0</td>\n",
       "      <td id=\"T_eefab_row10_col3\" class=\"data row10 col3\" >0</td>\n",
       "      <td id=\"T_eefab_row10_col4\" class=\"data row10 col4\" >0</td>\n",
       "      <td id=\"T_eefab_row10_col5\" class=\"data row10 col5\" >0</td>\n",
       "      <td id=\"T_eefab_row10_col6\" class=\"data row10 col6\" >0</td>\n",
       "      <td id=\"T_eefab_row10_col7\" class=\"data row10 col7\" >0</td>\n",
       "      <td id=\"T_eefab_row10_col8\" class=\"data row10 col8\" >0</td>\n",
       "      <td id=\"T_eefab_row10_col9\" class=\"data row10 col9\" >0</td>\n",
       "      <td id=\"T_eefab_row10_col10\" class=\"data row10 col10\" >0</td>\n",
       "      <td id=\"T_eefab_row10_col11\" class=\"data row10 col11\" >0</td>\n",
       "      <td id=\"T_eefab_row10_col12\" class=\"data row10 col12\" >0</td>\n",
       "      <td id=\"T_eefab_row10_col13\" class=\"data row10 col13\" >0</td>\n",
       "      <td id=\"T_eefab_row10_col14\" class=\"data row10 col14\" >249</td>\n",
       "      <td id=\"T_eefab_row10_col15\" class=\"data row10 col15\" >253</td>\n",
       "      <td id=\"T_eefab_row10_col16\" class=\"data row10 col16\" >245</td>\n",
       "      <td id=\"T_eefab_row10_col17\" class=\"data row10 col17\" >126</td>\n",
       "      <td id=\"T_eefab_row10_col18\" class=\"data row10 col18\" >0</td>\n",
       "      <td id=\"T_eefab_row10_col19\" class=\"data row10 col19\" >0</td>\n",
       "      <td id=\"T_eefab_row10_col20\" class=\"data row10 col20\" >0</td>\n",
       "      <td id=\"T_eefab_row10_col21\" class=\"data row10 col21\" >0</td>\n",
       "      <td id=\"T_eefab_row10_col22\" class=\"data row10 col22\" >0</td>\n",
       "      <td id=\"T_eefab_row10_col23\" class=\"data row10 col23\" >0</td>\n",
       "      <td id=\"T_eefab_row10_col24\" class=\"data row10 col24\" >0</td>\n",
       "      <td id=\"T_eefab_row10_col25\" class=\"data row10 col25\" >0</td>\n",
       "      <td id=\"T_eefab_row10_col26\" class=\"data row10 col26\" >0</td>\n",
       "      <td id=\"T_eefab_row10_col27\" class=\"data row10 col27\" >0</td>\n",
       "    </tr>\n",
       "    <tr>\n",
       "      <th id=\"T_eefab_level0_row11\" class=\"row_heading level0 row11\" >11</th>\n",
       "      <td id=\"T_eefab_row11_col0\" class=\"data row11 col0\" >0</td>\n",
       "      <td id=\"T_eefab_row11_col1\" class=\"data row11 col1\" >0</td>\n",
       "      <td id=\"T_eefab_row11_col2\" class=\"data row11 col2\" >0</td>\n",
       "      <td id=\"T_eefab_row11_col3\" class=\"data row11 col3\" >0</td>\n",
       "      <td id=\"T_eefab_row11_col4\" class=\"data row11 col4\" >0</td>\n",
       "      <td id=\"T_eefab_row11_col5\" class=\"data row11 col5\" >0</td>\n",
       "      <td id=\"T_eefab_row11_col6\" class=\"data row11 col6\" >0</td>\n",
       "      <td id=\"T_eefab_row11_col7\" class=\"data row11 col7\" >0</td>\n",
       "      <td id=\"T_eefab_row11_col8\" class=\"data row11 col8\" >0</td>\n",
       "      <td id=\"T_eefab_row11_col9\" class=\"data row11 col9\" >0</td>\n",
       "      <td id=\"T_eefab_row11_col10\" class=\"data row11 col10\" >0</td>\n",
       "      <td id=\"T_eefab_row11_col11\" class=\"data row11 col11\" >14</td>\n",
       "      <td id=\"T_eefab_row11_col12\" class=\"data row11 col12\" >101</td>\n",
       "      <td id=\"T_eefab_row11_col13\" class=\"data row11 col13\" >223</td>\n",
       "      <td id=\"T_eefab_row11_col14\" class=\"data row11 col14\" >253</td>\n",
       "      <td id=\"T_eefab_row11_col15\" class=\"data row11 col15\" >248</td>\n",
       "      <td id=\"T_eefab_row11_col16\" class=\"data row11 col16\" >124</td>\n",
       "      <td id=\"T_eefab_row11_col17\" class=\"data row11 col17\" >0</td>\n",
       "      <td id=\"T_eefab_row11_col18\" class=\"data row11 col18\" >0</td>\n",
       "      <td id=\"T_eefab_row11_col19\" class=\"data row11 col19\" >0</td>\n",
       "      <td id=\"T_eefab_row11_col20\" class=\"data row11 col20\" >0</td>\n",
       "      <td id=\"T_eefab_row11_col21\" class=\"data row11 col21\" >0</td>\n",
       "      <td id=\"T_eefab_row11_col22\" class=\"data row11 col22\" >0</td>\n",
       "      <td id=\"T_eefab_row11_col23\" class=\"data row11 col23\" >0</td>\n",
       "      <td id=\"T_eefab_row11_col24\" class=\"data row11 col24\" >0</td>\n",
       "      <td id=\"T_eefab_row11_col25\" class=\"data row11 col25\" >0</td>\n",
       "      <td id=\"T_eefab_row11_col26\" class=\"data row11 col26\" >0</td>\n",
       "      <td id=\"T_eefab_row11_col27\" class=\"data row11 col27\" >0</td>\n",
       "    </tr>\n",
       "    <tr>\n",
       "      <th id=\"T_eefab_level0_row12\" class=\"row_heading level0 row12\" >12</th>\n",
       "      <td id=\"T_eefab_row12_col0\" class=\"data row12 col0\" >0</td>\n",
       "      <td id=\"T_eefab_row12_col1\" class=\"data row12 col1\" >0</td>\n",
       "      <td id=\"T_eefab_row12_col2\" class=\"data row12 col2\" >0</td>\n",
       "      <td id=\"T_eefab_row12_col3\" class=\"data row12 col3\" >0</td>\n",
       "      <td id=\"T_eefab_row12_col4\" class=\"data row12 col4\" >0</td>\n",
       "      <td id=\"T_eefab_row12_col5\" class=\"data row12 col5\" >0</td>\n",
       "      <td id=\"T_eefab_row12_col6\" class=\"data row12 col6\" >0</td>\n",
       "      <td id=\"T_eefab_row12_col7\" class=\"data row12 col7\" >0</td>\n",
       "      <td id=\"T_eefab_row12_col8\" class=\"data row12 col8\" >0</td>\n",
       "      <td id=\"T_eefab_row12_col9\" class=\"data row12 col9\" >11</td>\n",
       "      <td id=\"T_eefab_row12_col10\" class=\"data row12 col10\" >166</td>\n",
       "      <td id=\"T_eefab_row12_col11\" class=\"data row12 col11\" >239</td>\n",
       "      <td id=\"T_eefab_row12_col12\" class=\"data row12 col12\" >253</td>\n",
       "      <td id=\"T_eefab_row12_col13\" class=\"data row12 col13\" >253</td>\n",
       "      <td id=\"T_eefab_row12_col14\" class=\"data row12 col14\" >253</td>\n",
       "      <td id=\"T_eefab_row12_col15\" class=\"data row12 col15\" >187</td>\n",
       "      <td id=\"T_eefab_row12_col16\" class=\"data row12 col16\" >30</td>\n",
       "      <td id=\"T_eefab_row12_col17\" class=\"data row12 col17\" >0</td>\n",
       "      <td id=\"T_eefab_row12_col18\" class=\"data row12 col18\" >0</td>\n",
       "      <td id=\"T_eefab_row12_col19\" class=\"data row12 col19\" >0</td>\n",
       "      <td id=\"T_eefab_row12_col20\" class=\"data row12 col20\" >0</td>\n",
       "      <td id=\"T_eefab_row12_col21\" class=\"data row12 col21\" >0</td>\n",
       "      <td id=\"T_eefab_row12_col22\" class=\"data row12 col22\" >0</td>\n",
       "      <td id=\"T_eefab_row12_col23\" class=\"data row12 col23\" >0</td>\n",
       "      <td id=\"T_eefab_row12_col24\" class=\"data row12 col24\" >0</td>\n",
       "      <td id=\"T_eefab_row12_col25\" class=\"data row12 col25\" >0</td>\n",
       "      <td id=\"T_eefab_row12_col26\" class=\"data row12 col26\" >0</td>\n",
       "      <td id=\"T_eefab_row12_col27\" class=\"data row12 col27\" >0</td>\n",
       "    </tr>\n",
       "    <tr>\n",
       "      <th id=\"T_eefab_level0_row13\" class=\"row_heading level0 row13\" >13</th>\n",
       "      <td id=\"T_eefab_row13_col0\" class=\"data row13 col0\" >0</td>\n",
       "      <td id=\"T_eefab_row13_col1\" class=\"data row13 col1\" >0</td>\n",
       "      <td id=\"T_eefab_row13_col2\" class=\"data row13 col2\" >0</td>\n",
       "      <td id=\"T_eefab_row13_col3\" class=\"data row13 col3\" >0</td>\n",
       "      <td id=\"T_eefab_row13_col4\" class=\"data row13 col4\" >0</td>\n",
       "      <td id=\"T_eefab_row13_col5\" class=\"data row13 col5\" >0</td>\n",
       "      <td id=\"T_eefab_row13_col6\" class=\"data row13 col6\" >0</td>\n",
       "      <td id=\"T_eefab_row13_col7\" class=\"data row13 col7\" >0</td>\n",
       "      <td id=\"T_eefab_row13_col8\" class=\"data row13 col8\" >0</td>\n",
       "      <td id=\"T_eefab_row13_col9\" class=\"data row13 col9\" >16</td>\n",
       "      <td id=\"T_eefab_row13_col10\" class=\"data row13 col10\" >248</td>\n",
       "      <td id=\"T_eefab_row13_col11\" class=\"data row13 col11\" >250</td>\n",
       "      <td id=\"T_eefab_row13_col12\" class=\"data row13 col12\" >253</td>\n",
       "      <td id=\"T_eefab_row13_col13\" class=\"data row13 col13\" >253</td>\n",
       "      <td id=\"T_eefab_row13_col14\" class=\"data row13 col14\" >253</td>\n",
       "      <td id=\"T_eefab_row13_col15\" class=\"data row13 col15\" >253</td>\n",
       "      <td id=\"T_eefab_row13_col16\" class=\"data row13 col16\" >232</td>\n",
       "      <td id=\"T_eefab_row13_col17\" class=\"data row13 col17\" >213</td>\n",
       "      <td id=\"T_eefab_row13_col18\" class=\"data row13 col18\" >111</td>\n",
       "      <td id=\"T_eefab_row13_col19\" class=\"data row13 col19\" >2</td>\n",
       "      <td id=\"T_eefab_row13_col20\" class=\"data row13 col20\" >0</td>\n",
       "      <td id=\"T_eefab_row13_col21\" class=\"data row13 col21\" >0</td>\n",
       "      <td id=\"T_eefab_row13_col22\" class=\"data row13 col22\" >0</td>\n",
       "      <td id=\"T_eefab_row13_col23\" class=\"data row13 col23\" >0</td>\n",
       "      <td id=\"T_eefab_row13_col24\" class=\"data row13 col24\" >0</td>\n",
       "      <td id=\"T_eefab_row13_col25\" class=\"data row13 col25\" >0</td>\n",
       "      <td id=\"T_eefab_row13_col26\" class=\"data row13 col26\" >0</td>\n",
       "      <td id=\"T_eefab_row13_col27\" class=\"data row13 col27\" >0</td>\n",
       "    </tr>\n",
       "    <tr>\n",
       "      <th id=\"T_eefab_level0_row14\" class=\"row_heading level0 row14\" >14</th>\n",
       "      <td id=\"T_eefab_row14_col0\" class=\"data row14 col0\" >0</td>\n",
       "      <td id=\"T_eefab_row14_col1\" class=\"data row14 col1\" >0</td>\n",
       "      <td id=\"T_eefab_row14_col2\" class=\"data row14 col2\" >0</td>\n",
       "      <td id=\"T_eefab_row14_col3\" class=\"data row14 col3\" >0</td>\n",
       "      <td id=\"T_eefab_row14_col4\" class=\"data row14 col4\" >0</td>\n",
       "      <td id=\"T_eefab_row14_col5\" class=\"data row14 col5\" >0</td>\n",
       "      <td id=\"T_eefab_row14_col6\" class=\"data row14 col6\" >0</td>\n",
       "      <td id=\"T_eefab_row14_col7\" class=\"data row14 col7\" >0</td>\n",
       "      <td id=\"T_eefab_row14_col8\" class=\"data row14 col8\" >0</td>\n",
       "      <td id=\"T_eefab_row14_col9\" class=\"data row14 col9\" >0</td>\n",
       "      <td id=\"T_eefab_row14_col10\" class=\"data row14 col10\" >0</td>\n",
       "      <td id=\"T_eefab_row14_col11\" class=\"data row14 col11\" >43</td>\n",
       "      <td id=\"T_eefab_row14_col12\" class=\"data row14 col12\" >98</td>\n",
       "      <td id=\"T_eefab_row14_col13\" class=\"data row14 col13\" >98</td>\n",
       "      <td id=\"T_eefab_row14_col14\" class=\"data row14 col14\" >208</td>\n",
       "      <td id=\"T_eefab_row14_col15\" class=\"data row14 col15\" >253</td>\n",
       "      <td id=\"T_eefab_row14_col16\" class=\"data row14 col16\" >253</td>\n",
       "      <td id=\"T_eefab_row14_col17\" class=\"data row14 col17\" >253</td>\n",
       "      <td id=\"T_eefab_row14_col18\" class=\"data row14 col18\" >253</td>\n",
       "      <td id=\"T_eefab_row14_col19\" class=\"data row14 col19\" >187</td>\n",
       "      <td id=\"T_eefab_row14_col20\" class=\"data row14 col20\" >22</td>\n",
       "      <td id=\"T_eefab_row14_col21\" class=\"data row14 col21\" >0</td>\n",
       "      <td id=\"T_eefab_row14_col22\" class=\"data row14 col22\" >0</td>\n",
       "      <td id=\"T_eefab_row14_col23\" class=\"data row14 col23\" >0</td>\n",
       "      <td id=\"T_eefab_row14_col24\" class=\"data row14 col24\" >0</td>\n",
       "      <td id=\"T_eefab_row14_col25\" class=\"data row14 col25\" >0</td>\n",
       "      <td id=\"T_eefab_row14_col26\" class=\"data row14 col26\" >0</td>\n",
       "      <td id=\"T_eefab_row14_col27\" class=\"data row14 col27\" >0</td>\n",
       "    </tr>\n",
       "    <tr>\n",
       "      <th id=\"T_eefab_level0_row15\" class=\"row_heading level0 row15\" >15</th>\n",
       "      <td id=\"T_eefab_row15_col0\" class=\"data row15 col0\" >0</td>\n",
       "      <td id=\"T_eefab_row15_col1\" class=\"data row15 col1\" >0</td>\n",
       "      <td id=\"T_eefab_row15_col2\" class=\"data row15 col2\" >0</td>\n",
       "      <td id=\"T_eefab_row15_col3\" class=\"data row15 col3\" >0</td>\n",
       "      <td id=\"T_eefab_row15_col4\" class=\"data row15 col4\" >0</td>\n",
       "      <td id=\"T_eefab_row15_col5\" class=\"data row15 col5\" >0</td>\n",
       "      <td id=\"T_eefab_row15_col6\" class=\"data row15 col6\" >0</td>\n",
       "      <td id=\"T_eefab_row15_col7\" class=\"data row15 col7\" >0</td>\n",
       "      <td id=\"T_eefab_row15_col8\" class=\"data row15 col8\" >0</td>\n",
       "      <td id=\"T_eefab_row15_col9\" class=\"data row15 col9\" >0</td>\n",
       "      <td id=\"T_eefab_row15_col10\" class=\"data row15 col10\" >0</td>\n",
       "      <td id=\"T_eefab_row15_col11\" class=\"data row15 col11\" >0</td>\n",
       "      <td id=\"T_eefab_row15_col12\" class=\"data row15 col12\" >0</td>\n",
       "      <td id=\"T_eefab_row15_col13\" class=\"data row15 col13\" >0</td>\n",
       "      <td id=\"T_eefab_row15_col14\" class=\"data row15 col14\" >9</td>\n",
       "      <td id=\"T_eefab_row15_col15\" class=\"data row15 col15\" >51</td>\n",
       "      <td id=\"T_eefab_row15_col16\" class=\"data row15 col16\" >119</td>\n",
       "      <td id=\"T_eefab_row15_col17\" class=\"data row15 col17\" >253</td>\n",
       "      <td id=\"T_eefab_row15_col18\" class=\"data row15 col18\" >253</td>\n",
       "      <td id=\"T_eefab_row15_col19\" class=\"data row15 col19\" >253</td>\n",
       "      <td id=\"T_eefab_row15_col20\" class=\"data row15 col20\" >76</td>\n",
       "      <td id=\"T_eefab_row15_col21\" class=\"data row15 col21\" >0</td>\n",
       "      <td id=\"T_eefab_row15_col22\" class=\"data row15 col22\" >0</td>\n",
       "      <td id=\"T_eefab_row15_col23\" class=\"data row15 col23\" >0</td>\n",
       "      <td id=\"T_eefab_row15_col24\" class=\"data row15 col24\" >0</td>\n",
       "      <td id=\"T_eefab_row15_col25\" class=\"data row15 col25\" >0</td>\n",
       "      <td id=\"T_eefab_row15_col26\" class=\"data row15 col26\" >0</td>\n",
       "      <td id=\"T_eefab_row15_col27\" class=\"data row15 col27\" >0</td>\n",
       "    </tr>\n",
       "    <tr>\n",
       "      <th id=\"T_eefab_level0_row16\" class=\"row_heading level0 row16\" >16</th>\n",
       "      <td id=\"T_eefab_row16_col0\" class=\"data row16 col0\" >0</td>\n",
       "      <td id=\"T_eefab_row16_col1\" class=\"data row16 col1\" >0</td>\n",
       "      <td id=\"T_eefab_row16_col2\" class=\"data row16 col2\" >0</td>\n",
       "      <td id=\"T_eefab_row16_col3\" class=\"data row16 col3\" >0</td>\n",
       "      <td id=\"T_eefab_row16_col4\" class=\"data row16 col4\" >0</td>\n",
       "      <td id=\"T_eefab_row16_col5\" class=\"data row16 col5\" >0</td>\n",
       "      <td id=\"T_eefab_row16_col6\" class=\"data row16 col6\" >0</td>\n",
       "      <td id=\"T_eefab_row16_col7\" class=\"data row16 col7\" >0</td>\n",
       "      <td id=\"T_eefab_row16_col8\" class=\"data row16 col8\" >0</td>\n",
       "      <td id=\"T_eefab_row16_col9\" class=\"data row16 col9\" >0</td>\n",
       "      <td id=\"T_eefab_row16_col10\" class=\"data row16 col10\" >0</td>\n",
       "      <td id=\"T_eefab_row16_col11\" class=\"data row16 col11\" >0</td>\n",
       "      <td id=\"T_eefab_row16_col12\" class=\"data row16 col12\" >0</td>\n",
       "      <td id=\"T_eefab_row16_col13\" class=\"data row16 col13\" >0</td>\n",
       "      <td id=\"T_eefab_row16_col14\" class=\"data row16 col14\" >0</td>\n",
       "      <td id=\"T_eefab_row16_col15\" class=\"data row16 col15\" >0</td>\n",
       "      <td id=\"T_eefab_row16_col16\" class=\"data row16 col16\" >1</td>\n",
       "      <td id=\"T_eefab_row16_col17\" class=\"data row16 col17\" >183</td>\n",
       "      <td id=\"T_eefab_row16_col18\" class=\"data row16 col18\" >253</td>\n",
       "      <td id=\"T_eefab_row16_col19\" class=\"data row16 col19\" >253</td>\n",
       "      <td id=\"T_eefab_row16_col20\" class=\"data row16 col20\" >139</td>\n",
       "      <td id=\"T_eefab_row16_col21\" class=\"data row16 col21\" >0</td>\n",
       "      <td id=\"T_eefab_row16_col22\" class=\"data row16 col22\" >0</td>\n",
       "      <td id=\"T_eefab_row16_col23\" class=\"data row16 col23\" >0</td>\n",
       "      <td id=\"T_eefab_row16_col24\" class=\"data row16 col24\" >0</td>\n",
       "      <td id=\"T_eefab_row16_col25\" class=\"data row16 col25\" >0</td>\n",
       "      <td id=\"T_eefab_row16_col26\" class=\"data row16 col26\" >0</td>\n",
       "      <td id=\"T_eefab_row16_col27\" class=\"data row16 col27\" >0</td>\n",
       "    </tr>\n",
       "    <tr>\n",
       "      <th id=\"T_eefab_level0_row17\" class=\"row_heading level0 row17\" >17</th>\n",
       "      <td id=\"T_eefab_row17_col0\" class=\"data row17 col0\" >0</td>\n",
       "      <td id=\"T_eefab_row17_col1\" class=\"data row17 col1\" >0</td>\n",
       "      <td id=\"T_eefab_row17_col2\" class=\"data row17 col2\" >0</td>\n",
       "      <td id=\"T_eefab_row17_col3\" class=\"data row17 col3\" >0</td>\n",
       "      <td id=\"T_eefab_row17_col4\" class=\"data row17 col4\" >0</td>\n",
       "      <td id=\"T_eefab_row17_col5\" class=\"data row17 col5\" >0</td>\n",
       "      <td id=\"T_eefab_row17_col6\" class=\"data row17 col6\" >0</td>\n",
       "      <td id=\"T_eefab_row17_col7\" class=\"data row17 col7\" >0</td>\n",
       "      <td id=\"T_eefab_row17_col8\" class=\"data row17 col8\" >0</td>\n",
       "      <td id=\"T_eefab_row17_col9\" class=\"data row17 col9\" >0</td>\n",
       "      <td id=\"T_eefab_row17_col10\" class=\"data row17 col10\" >0</td>\n",
       "      <td id=\"T_eefab_row17_col11\" class=\"data row17 col11\" >0</td>\n",
       "      <td id=\"T_eefab_row17_col12\" class=\"data row17 col12\" >0</td>\n",
       "      <td id=\"T_eefab_row17_col13\" class=\"data row17 col13\" >0</td>\n",
       "      <td id=\"T_eefab_row17_col14\" class=\"data row17 col14\" >0</td>\n",
       "      <td id=\"T_eefab_row17_col15\" class=\"data row17 col15\" >0</td>\n",
       "      <td id=\"T_eefab_row17_col16\" class=\"data row17 col16\" >0</td>\n",
       "      <td id=\"T_eefab_row17_col17\" class=\"data row17 col17\" >182</td>\n",
       "      <td id=\"T_eefab_row17_col18\" class=\"data row17 col18\" >253</td>\n",
       "      <td id=\"T_eefab_row17_col19\" class=\"data row17 col19\" >253</td>\n",
       "      <td id=\"T_eefab_row17_col20\" class=\"data row17 col20\" >104</td>\n",
       "      <td id=\"T_eefab_row17_col21\" class=\"data row17 col21\" >0</td>\n",
       "      <td id=\"T_eefab_row17_col22\" class=\"data row17 col22\" >0</td>\n",
       "      <td id=\"T_eefab_row17_col23\" class=\"data row17 col23\" >0</td>\n",
       "      <td id=\"T_eefab_row17_col24\" class=\"data row17 col24\" >0</td>\n",
       "      <td id=\"T_eefab_row17_col25\" class=\"data row17 col25\" >0</td>\n",
       "      <td id=\"T_eefab_row17_col26\" class=\"data row17 col26\" >0</td>\n",
       "      <td id=\"T_eefab_row17_col27\" class=\"data row17 col27\" >0</td>\n",
       "    </tr>\n",
       "    <tr>\n",
       "      <th id=\"T_eefab_level0_row18\" class=\"row_heading level0 row18\" >18</th>\n",
       "      <td id=\"T_eefab_row18_col0\" class=\"data row18 col0\" >0</td>\n",
       "      <td id=\"T_eefab_row18_col1\" class=\"data row18 col1\" >0</td>\n",
       "      <td id=\"T_eefab_row18_col2\" class=\"data row18 col2\" >0</td>\n",
       "      <td id=\"T_eefab_row18_col3\" class=\"data row18 col3\" >0</td>\n",
       "      <td id=\"T_eefab_row18_col4\" class=\"data row18 col4\" >0</td>\n",
       "      <td id=\"T_eefab_row18_col5\" class=\"data row18 col5\" >0</td>\n",
       "      <td id=\"T_eefab_row18_col6\" class=\"data row18 col6\" >0</td>\n",
       "      <td id=\"T_eefab_row18_col7\" class=\"data row18 col7\" >0</td>\n",
       "      <td id=\"T_eefab_row18_col8\" class=\"data row18 col8\" >0</td>\n",
       "      <td id=\"T_eefab_row18_col9\" class=\"data row18 col9\" >0</td>\n",
       "      <td id=\"T_eefab_row18_col10\" class=\"data row18 col10\" >0</td>\n",
       "      <td id=\"T_eefab_row18_col11\" class=\"data row18 col11\" >0</td>\n",
       "      <td id=\"T_eefab_row18_col12\" class=\"data row18 col12\" >0</td>\n",
       "      <td id=\"T_eefab_row18_col13\" class=\"data row18 col13\" >0</td>\n",
       "      <td id=\"T_eefab_row18_col14\" class=\"data row18 col14\" >0</td>\n",
       "      <td id=\"T_eefab_row18_col15\" class=\"data row18 col15\" >0</td>\n",
       "      <td id=\"T_eefab_row18_col16\" class=\"data row18 col16\" >85</td>\n",
       "      <td id=\"T_eefab_row18_col17\" class=\"data row18 col17\" >249</td>\n",
       "      <td id=\"T_eefab_row18_col18\" class=\"data row18 col18\" >253</td>\n",
       "      <td id=\"T_eefab_row18_col19\" class=\"data row18 col19\" >253</td>\n",
       "      <td id=\"T_eefab_row18_col20\" class=\"data row18 col20\" >36</td>\n",
       "      <td id=\"T_eefab_row18_col21\" class=\"data row18 col21\" >0</td>\n",
       "      <td id=\"T_eefab_row18_col22\" class=\"data row18 col22\" >0</td>\n",
       "      <td id=\"T_eefab_row18_col23\" class=\"data row18 col23\" >0</td>\n",
       "      <td id=\"T_eefab_row18_col24\" class=\"data row18 col24\" >0</td>\n",
       "      <td id=\"T_eefab_row18_col25\" class=\"data row18 col25\" >0</td>\n",
       "      <td id=\"T_eefab_row18_col26\" class=\"data row18 col26\" >0</td>\n",
       "      <td id=\"T_eefab_row18_col27\" class=\"data row18 col27\" >0</td>\n",
       "    </tr>\n",
       "    <tr>\n",
       "      <th id=\"T_eefab_level0_row19\" class=\"row_heading level0 row19\" >19</th>\n",
       "      <td id=\"T_eefab_row19_col0\" class=\"data row19 col0\" >0</td>\n",
       "      <td id=\"T_eefab_row19_col1\" class=\"data row19 col1\" >0</td>\n",
       "      <td id=\"T_eefab_row19_col2\" class=\"data row19 col2\" >0</td>\n",
       "      <td id=\"T_eefab_row19_col3\" class=\"data row19 col3\" >0</td>\n",
       "      <td id=\"T_eefab_row19_col4\" class=\"data row19 col4\" >0</td>\n",
       "      <td id=\"T_eefab_row19_col5\" class=\"data row19 col5\" >0</td>\n",
       "      <td id=\"T_eefab_row19_col6\" class=\"data row19 col6\" >0</td>\n",
       "      <td id=\"T_eefab_row19_col7\" class=\"data row19 col7\" >0</td>\n",
       "      <td id=\"T_eefab_row19_col8\" class=\"data row19 col8\" >0</td>\n",
       "      <td id=\"T_eefab_row19_col9\" class=\"data row19 col9\" >0</td>\n",
       "      <td id=\"T_eefab_row19_col10\" class=\"data row19 col10\" >0</td>\n",
       "      <td id=\"T_eefab_row19_col11\" class=\"data row19 col11\" >0</td>\n",
       "      <td id=\"T_eefab_row19_col12\" class=\"data row19 col12\" >0</td>\n",
       "      <td id=\"T_eefab_row19_col13\" class=\"data row19 col13\" >0</td>\n",
       "      <td id=\"T_eefab_row19_col14\" class=\"data row19 col14\" >0</td>\n",
       "      <td id=\"T_eefab_row19_col15\" class=\"data row19 col15\" >60</td>\n",
       "      <td id=\"T_eefab_row19_col16\" class=\"data row19 col16\" >214</td>\n",
       "      <td id=\"T_eefab_row19_col17\" class=\"data row19 col17\" >253</td>\n",
       "      <td id=\"T_eefab_row19_col18\" class=\"data row19 col18\" >253</td>\n",
       "      <td id=\"T_eefab_row19_col19\" class=\"data row19 col19\" >173</td>\n",
       "      <td id=\"T_eefab_row19_col20\" class=\"data row19 col20\" >11</td>\n",
       "      <td id=\"T_eefab_row19_col21\" class=\"data row19 col21\" >0</td>\n",
       "      <td id=\"T_eefab_row19_col22\" class=\"data row19 col22\" >0</td>\n",
       "      <td id=\"T_eefab_row19_col23\" class=\"data row19 col23\" >0</td>\n",
       "      <td id=\"T_eefab_row19_col24\" class=\"data row19 col24\" >0</td>\n",
       "      <td id=\"T_eefab_row19_col25\" class=\"data row19 col25\" >0</td>\n",
       "      <td id=\"T_eefab_row19_col26\" class=\"data row19 col26\" >0</td>\n",
       "      <td id=\"T_eefab_row19_col27\" class=\"data row19 col27\" >0</td>\n",
       "    </tr>\n",
       "    <tr>\n",
       "      <th id=\"T_eefab_level0_row20\" class=\"row_heading level0 row20\" >20</th>\n",
       "      <td id=\"T_eefab_row20_col0\" class=\"data row20 col0\" >0</td>\n",
       "      <td id=\"T_eefab_row20_col1\" class=\"data row20 col1\" >0</td>\n",
       "      <td id=\"T_eefab_row20_col2\" class=\"data row20 col2\" >0</td>\n",
       "      <td id=\"T_eefab_row20_col3\" class=\"data row20 col3\" >0</td>\n",
       "      <td id=\"T_eefab_row20_col4\" class=\"data row20 col4\" >0</td>\n",
       "      <td id=\"T_eefab_row20_col5\" class=\"data row20 col5\" >0</td>\n",
       "      <td id=\"T_eefab_row20_col6\" class=\"data row20 col6\" >0</td>\n",
       "      <td id=\"T_eefab_row20_col7\" class=\"data row20 col7\" >0</td>\n",
       "      <td id=\"T_eefab_row20_col8\" class=\"data row20 col8\" >0</td>\n",
       "      <td id=\"T_eefab_row20_col9\" class=\"data row20 col9\" >0</td>\n",
       "      <td id=\"T_eefab_row20_col10\" class=\"data row20 col10\" >0</td>\n",
       "      <td id=\"T_eefab_row20_col11\" class=\"data row20 col11\" >0</td>\n",
       "      <td id=\"T_eefab_row20_col12\" class=\"data row20 col12\" >0</td>\n",
       "      <td id=\"T_eefab_row20_col13\" class=\"data row20 col13\" >0</td>\n",
       "      <td id=\"T_eefab_row20_col14\" class=\"data row20 col14\" >98</td>\n",
       "      <td id=\"T_eefab_row20_col15\" class=\"data row20 col15\" >247</td>\n",
       "      <td id=\"T_eefab_row20_col16\" class=\"data row20 col16\" >253</td>\n",
       "      <td id=\"T_eefab_row20_col17\" class=\"data row20 col17\" >253</td>\n",
       "      <td id=\"T_eefab_row20_col18\" class=\"data row20 col18\" >226</td>\n",
       "      <td id=\"T_eefab_row20_col19\" class=\"data row20 col19\" >9</td>\n",
       "      <td id=\"T_eefab_row20_col20\" class=\"data row20 col20\" >0</td>\n",
       "      <td id=\"T_eefab_row20_col21\" class=\"data row20 col21\" >0</td>\n",
       "      <td id=\"T_eefab_row20_col22\" class=\"data row20 col22\" >0</td>\n",
       "      <td id=\"T_eefab_row20_col23\" class=\"data row20 col23\" >0</td>\n",
       "      <td id=\"T_eefab_row20_col24\" class=\"data row20 col24\" >0</td>\n",
       "      <td id=\"T_eefab_row20_col25\" class=\"data row20 col25\" >0</td>\n",
       "      <td id=\"T_eefab_row20_col26\" class=\"data row20 col26\" >0</td>\n",
       "      <td id=\"T_eefab_row20_col27\" class=\"data row20 col27\" >0</td>\n",
       "    </tr>\n",
       "    <tr>\n",
       "      <th id=\"T_eefab_level0_row21\" class=\"row_heading level0 row21\" >21</th>\n",
       "      <td id=\"T_eefab_row21_col0\" class=\"data row21 col0\" >0</td>\n",
       "      <td id=\"T_eefab_row21_col1\" class=\"data row21 col1\" >0</td>\n",
       "      <td id=\"T_eefab_row21_col2\" class=\"data row21 col2\" >0</td>\n",
       "      <td id=\"T_eefab_row21_col3\" class=\"data row21 col3\" >0</td>\n",
       "      <td id=\"T_eefab_row21_col4\" class=\"data row21 col4\" >0</td>\n",
       "      <td id=\"T_eefab_row21_col5\" class=\"data row21 col5\" >0</td>\n",
       "      <td id=\"T_eefab_row21_col6\" class=\"data row21 col6\" >0</td>\n",
       "      <td id=\"T_eefab_row21_col7\" class=\"data row21 col7\" >0</td>\n",
       "      <td id=\"T_eefab_row21_col8\" class=\"data row21 col8\" >0</td>\n",
       "      <td id=\"T_eefab_row21_col9\" class=\"data row21 col9\" >0</td>\n",
       "      <td id=\"T_eefab_row21_col10\" class=\"data row21 col10\" >0</td>\n",
       "      <td id=\"T_eefab_row21_col11\" class=\"data row21 col11\" >0</td>\n",
       "      <td id=\"T_eefab_row21_col12\" class=\"data row21 col12\" >42</td>\n",
       "      <td id=\"T_eefab_row21_col13\" class=\"data row21 col13\" >150</td>\n",
       "      <td id=\"T_eefab_row21_col14\" class=\"data row21 col14\" >252</td>\n",
       "      <td id=\"T_eefab_row21_col15\" class=\"data row21 col15\" >253</td>\n",
       "      <td id=\"T_eefab_row21_col16\" class=\"data row21 col16\" >253</td>\n",
       "      <td id=\"T_eefab_row21_col17\" class=\"data row21 col17\" >233</td>\n",
       "      <td id=\"T_eefab_row21_col18\" class=\"data row21 col18\" >53</td>\n",
       "      <td id=\"T_eefab_row21_col19\" class=\"data row21 col19\" >0</td>\n",
       "      <td id=\"T_eefab_row21_col20\" class=\"data row21 col20\" >0</td>\n",
       "      <td id=\"T_eefab_row21_col21\" class=\"data row21 col21\" >0</td>\n",
       "      <td id=\"T_eefab_row21_col22\" class=\"data row21 col22\" >0</td>\n",
       "      <td id=\"T_eefab_row21_col23\" class=\"data row21 col23\" >0</td>\n",
       "      <td id=\"T_eefab_row21_col24\" class=\"data row21 col24\" >0</td>\n",
       "      <td id=\"T_eefab_row21_col25\" class=\"data row21 col25\" >0</td>\n",
       "      <td id=\"T_eefab_row21_col26\" class=\"data row21 col26\" >0</td>\n",
       "      <td id=\"T_eefab_row21_col27\" class=\"data row21 col27\" >0</td>\n",
       "    </tr>\n",
       "    <tr>\n",
       "      <th id=\"T_eefab_level0_row22\" class=\"row_heading level0 row22\" >22</th>\n",
       "      <td id=\"T_eefab_row22_col0\" class=\"data row22 col0\" >0</td>\n",
       "      <td id=\"T_eefab_row22_col1\" class=\"data row22 col1\" >0</td>\n",
       "      <td id=\"T_eefab_row22_col2\" class=\"data row22 col2\" >0</td>\n",
       "      <td id=\"T_eefab_row22_col3\" class=\"data row22 col3\" >0</td>\n",
       "      <td id=\"T_eefab_row22_col4\" class=\"data row22 col4\" >0</td>\n",
       "      <td id=\"T_eefab_row22_col5\" class=\"data row22 col5\" >0</td>\n",
       "      <td id=\"T_eefab_row22_col6\" class=\"data row22 col6\" >42</td>\n",
       "      <td id=\"T_eefab_row22_col7\" class=\"data row22 col7\" >115</td>\n",
       "      <td id=\"T_eefab_row22_col8\" class=\"data row22 col8\" >42</td>\n",
       "      <td id=\"T_eefab_row22_col9\" class=\"data row22 col9\" >60</td>\n",
       "      <td id=\"T_eefab_row22_col10\" class=\"data row22 col10\" >115</td>\n",
       "      <td id=\"T_eefab_row22_col11\" class=\"data row22 col11\" >159</td>\n",
       "      <td id=\"T_eefab_row22_col12\" class=\"data row22 col12\" >240</td>\n",
       "      <td id=\"T_eefab_row22_col13\" class=\"data row22 col13\" >253</td>\n",
       "      <td id=\"T_eefab_row22_col14\" class=\"data row22 col14\" >253</td>\n",
       "      <td id=\"T_eefab_row22_col15\" class=\"data row22 col15\" >250</td>\n",
       "      <td id=\"T_eefab_row22_col16\" class=\"data row22 col16\" >175</td>\n",
       "      <td id=\"T_eefab_row22_col17\" class=\"data row22 col17\" >25</td>\n",
       "      <td id=\"T_eefab_row22_col18\" class=\"data row22 col18\" >0</td>\n",
       "      <td id=\"T_eefab_row22_col19\" class=\"data row22 col19\" >0</td>\n",
       "      <td id=\"T_eefab_row22_col20\" class=\"data row22 col20\" >0</td>\n",
       "      <td id=\"T_eefab_row22_col21\" class=\"data row22 col21\" >0</td>\n",
       "      <td id=\"T_eefab_row22_col22\" class=\"data row22 col22\" >0</td>\n",
       "      <td id=\"T_eefab_row22_col23\" class=\"data row22 col23\" >0</td>\n",
       "      <td id=\"T_eefab_row22_col24\" class=\"data row22 col24\" >0</td>\n",
       "      <td id=\"T_eefab_row22_col25\" class=\"data row22 col25\" >0</td>\n",
       "      <td id=\"T_eefab_row22_col26\" class=\"data row22 col26\" >0</td>\n",
       "      <td id=\"T_eefab_row22_col27\" class=\"data row22 col27\" >0</td>\n",
       "    </tr>\n",
       "    <tr>\n",
       "      <th id=\"T_eefab_level0_row23\" class=\"row_heading level0 row23\" >23</th>\n",
       "      <td id=\"T_eefab_row23_col0\" class=\"data row23 col0\" >0</td>\n",
       "      <td id=\"T_eefab_row23_col1\" class=\"data row23 col1\" >0</td>\n",
       "      <td id=\"T_eefab_row23_col2\" class=\"data row23 col2\" >0</td>\n",
       "      <td id=\"T_eefab_row23_col3\" class=\"data row23 col3\" >0</td>\n",
       "      <td id=\"T_eefab_row23_col4\" class=\"data row23 col4\" >0</td>\n",
       "      <td id=\"T_eefab_row23_col5\" class=\"data row23 col5\" >0</td>\n",
       "      <td id=\"T_eefab_row23_col6\" class=\"data row23 col6\" >187</td>\n",
       "      <td id=\"T_eefab_row23_col7\" class=\"data row23 col7\" >253</td>\n",
       "      <td id=\"T_eefab_row23_col8\" class=\"data row23 col8\" >253</td>\n",
       "      <td id=\"T_eefab_row23_col9\" class=\"data row23 col9\" >253</td>\n",
       "      <td id=\"T_eefab_row23_col10\" class=\"data row23 col10\" >253</td>\n",
       "      <td id=\"T_eefab_row23_col11\" class=\"data row23 col11\" >253</td>\n",
       "      <td id=\"T_eefab_row23_col12\" class=\"data row23 col12\" >253</td>\n",
       "      <td id=\"T_eefab_row23_col13\" class=\"data row23 col13\" >253</td>\n",
       "      <td id=\"T_eefab_row23_col14\" class=\"data row23 col14\" >197</td>\n",
       "      <td id=\"T_eefab_row23_col15\" class=\"data row23 col15\" >86</td>\n",
       "      <td id=\"T_eefab_row23_col16\" class=\"data row23 col16\" >0</td>\n",
       "      <td id=\"T_eefab_row23_col17\" class=\"data row23 col17\" >0</td>\n",
       "      <td id=\"T_eefab_row23_col18\" class=\"data row23 col18\" >0</td>\n",
       "      <td id=\"T_eefab_row23_col19\" class=\"data row23 col19\" >0</td>\n",
       "      <td id=\"T_eefab_row23_col20\" class=\"data row23 col20\" >0</td>\n",
       "      <td id=\"T_eefab_row23_col21\" class=\"data row23 col21\" >0</td>\n",
       "      <td id=\"T_eefab_row23_col22\" class=\"data row23 col22\" >0</td>\n",
       "      <td id=\"T_eefab_row23_col23\" class=\"data row23 col23\" >0</td>\n",
       "      <td id=\"T_eefab_row23_col24\" class=\"data row23 col24\" >0</td>\n",
       "      <td id=\"T_eefab_row23_col25\" class=\"data row23 col25\" >0</td>\n",
       "      <td id=\"T_eefab_row23_col26\" class=\"data row23 col26\" >0</td>\n",
       "      <td id=\"T_eefab_row23_col27\" class=\"data row23 col27\" >0</td>\n",
       "    </tr>\n",
       "    <tr>\n",
       "      <th id=\"T_eefab_level0_row24\" class=\"row_heading level0 row24\" >24</th>\n",
       "      <td id=\"T_eefab_row24_col0\" class=\"data row24 col0\" >0</td>\n",
       "      <td id=\"T_eefab_row24_col1\" class=\"data row24 col1\" >0</td>\n",
       "      <td id=\"T_eefab_row24_col2\" class=\"data row24 col2\" >0</td>\n",
       "      <td id=\"T_eefab_row24_col3\" class=\"data row24 col3\" >0</td>\n",
       "      <td id=\"T_eefab_row24_col4\" class=\"data row24 col4\" >0</td>\n",
       "      <td id=\"T_eefab_row24_col5\" class=\"data row24 col5\" >0</td>\n",
       "      <td id=\"T_eefab_row24_col6\" class=\"data row24 col6\" >103</td>\n",
       "      <td id=\"T_eefab_row24_col7\" class=\"data row24 col7\" >253</td>\n",
       "      <td id=\"T_eefab_row24_col8\" class=\"data row24 col8\" >253</td>\n",
       "      <td id=\"T_eefab_row24_col9\" class=\"data row24 col9\" >253</td>\n",
       "      <td id=\"T_eefab_row24_col10\" class=\"data row24 col10\" >253</td>\n",
       "      <td id=\"T_eefab_row24_col11\" class=\"data row24 col11\" >253</td>\n",
       "      <td id=\"T_eefab_row24_col12\" class=\"data row24 col12\" >232</td>\n",
       "      <td id=\"T_eefab_row24_col13\" class=\"data row24 col13\" >67</td>\n",
       "      <td id=\"T_eefab_row24_col14\" class=\"data row24 col14\" >1</td>\n",
       "      <td id=\"T_eefab_row24_col15\" class=\"data row24 col15\" >0</td>\n",
       "      <td id=\"T_eefab_row24_col16\" class=\"data row24 col16\" >0</td>\n",
       "      <td id=\"T_eefab_row24_col17\" class=\"data row24 col17\" >0</td>\n",
       "      <td id=\"T_eefab_row24_col18\" class=\"data row24 col18\" >0</td>\n",
       "      <td id=\"T_eefab_row24_col19\" class=\"data row24 col19\" >0</td>\n",
       "      <td id=\"T_eefab_row24_col20\" class=\"data row24 col20\" >0</td>\n",
       "      <td id=\"T_eefab_row24_col21\" class=\"data row24 col21\" >0</td>\n",
       "      <td id=\"T_eefab_row24_col22\" class=\"data row24 col22\" >0</td>\n",
       "      <td id=\"T_eefab_row24_col23\" class=\"data row24 col23\" >0</td>\n",
       "      <td id=\"T_eefab_row24_col24\" class=\"data row24 col24\" >0</td>\n",
       "      <td id=\"T_eefab_row24_col25\" class=\"data row24 col25\" >0</td>\n",
       "      <td id=\"T_eefab_row24_col26\" class=\"data row24 col26\" >0</td>\n",
       "      <td id=\"T_eefab_row24_col27\" class=\"data row24 col27\" >0</td>\n",
       "    </tr>\n",
       "    <tr>\n",
       "      <th id=\"T_eefab_level0_row25\" class=\"row_heading level0 row25\" >25</th>\n",
       "      <td id=\"T_eefab_row25_col0\" class=\"data row25 col0\" >0</td>\n",
       "      <td id=\"T_eefab_row25_col1\" class=\"data row25 col1\" >0</td>\n",
       "      <td id=\"T_eefab_row25_col2\" class=\"data row25 col2\" >0</td>\n",
       "      <td id=\"T_eefab_row25_col3\" class=\"data row25 col3\" >0</td>\n",
       "      <td id=\"T_eefab_row25_col4\" class=\"data row25 col4\" >0</td>\n",
       "      <td id=\"T_eefab_row25_col5\" class=\"data row25 col5\" >0</td>\n",
       "      <td id=\"T_eefab_row25_col6\" class=\"data row25 col6\" >0</td>\n",
       "      <td id=\"T_eefab_row25_col7\" class=\"data row25 col7\" >0</td>\n",
       "      <td id=\"T_eefab_row25_col8\" class=\"data row25 col8\" >0</td>\n",
       "      <td id=\"T_eefab_row25_col9\" class=\"data row25 col9\" >0</td>\n",
       "      <td id=\"T_eefab_row25_col10\" class=\"data row25 col10\" >0</td>\n",
       "      <td id=\"T_eefab_row25_col11\" class=\"data row25 col11\" >0</td>\n",
       "      <td id=\"T_eefab_row25_col12\" class=\"data row25 col12\" >0</td>\n",
       "      <td id=\"T_eefab_row25_col13\" class=\"data row25 col13\" >0</td>\n",
       "      <td id=\"T_eefab_row25_col14\" class=\"data row25 col14\" >0</td>\n",
       "      <td id=\"T_eefab_row25_col15\" class=\"data row25 col15\" >0</td>\n",
       "      <td id=\"T_eefab_row25_col16\" class=\"data row25 col16\" >0</td>\n",
       "      <td id=\"T_eefab_row25_col17\" class=\"data row25 col17\" >0</td>\n",
       "      <td id=\"T_eefab_row25_col18\" class=\"data row25 col18\" >0</td>\n",
       "      <td id=\"T_eefab_row25_col19\" class=\"data row25 col19\" >0</td>\n",
       "      <td id=\"T_eefab_row25_col20\" class=\"data row25 col20\" >0</td>\n",
       "      <td id=\"T_eefab_row25_col21\" class=\"data row25 col21\" >0</td>\n",
       "      <td id=\"T_eefab_row25_col22\" class=\"data row25 col22\" >0</td>\n",
       "      <td id=\"T_eefab_row25_col23\" class=\"data row25 col23\" >0</td>\n",
       "      <td id=\"T_eefab_row25_col24\" class=\"data row25 col24\" >0</td>\n",
       "      <td id=\"T_eefab_row25_col25\" class=\"data row25 col25\" >0</td>\n",
       "      <td id=\"T_eefab_row25_col26\" class=\"data row25 col26\" >0</td>\n",
       "      <td id=\"T_eefab_row25_col27\" class=\"data row25 col27\" >0</td>\n",
       "    </tr>\n",
       "    <tr>\n",
       "      <th id=\"T_eefab_level0_row26\" class=\"row_heading level0 row26\" >26</th>\n",
       "      <td id=\"T_eefab_row26_col0\" class=\"data row26 col0\" >0</td>\n",
       "      <td id=\"T_eefab_row26_col1\" class=\"data row26 col1\" >0</td>\n",
       "      <td id=\"T_eefab_row26_col2\" class=\"data row26 col2\" >0</td>\n",
       "      <td id=\"T_eefab_row26_col3\" class=\"data row26 col3\" >0</td>\n",
       "      <td id=\"T_eefab_row26_col4\" class=\"data row26 col4\" >0</td>\n",
       "      <td id=\"T_eefab_row26_col5\" class=\"data row26 col5\" >0</td>\n",
       "      <td id=\"T_eefab_row26_col6\" class=\"data row26 col6\" >0</td>\n",
       "      <td id=\"T_eefab_row26_col7\" class=\"data row26 col7\" >0</td>\n",
       "      <td id=\"T_eefab_row26_col8\" class=\"data row26 col8\" >0</td>\n",
       "      <td id=\"T_eefab_row26_col9\" class=\"data row26 col9\" >0</td>\n",
       "      <td id=\"T_eefab_row26_col10\" class=\"data row26 col10\" >0</td>\n",
       "      <td id=\"T_eefab_row26_col11\" class=\"data row26 col11\" >0</td>\n",
       "      <td id=\"T_eefab_row26_col12\" class=\"data row26 col12\" >0</td>\n",
       "      <td id=\"T_eefab_row26_col13\" class=\"data row26 col13\" >0</td>\n",
       "      <td id=\"T_eefab_row26_col14\" class=\"data row26 col14\" >0</td>\n",
       "      <td id=\"T_eefab_row26_col15\" class=\"data row26 col15\" >0</td>\n",
       "      <td id=\"T_eefab_row26_col16\" class=\"data row26 col16\" >0</td>\n",
       "      <td id=\"T_eefab_row26_col17\" class=\"data row26 col17\" >0</td>\n",
       "      <td id=\"T_eefab_row26_col18\" class=\"data row26 col18\" >0</td>\n",
       "      <td id=\"T_eefab_row26_col19\" class=\"data row26 col19\" >0</td>\n",
       "      <td id=\"T_eefab_row26_col20\" class=\"data row26 col20\" >0</td>\n",
       "      <td id=\"T_eefab_row26_col21\" class=\"data row26 col21\" >0</td>\n",
       "      <td id=\"T_eefab_row26_col22\" class=\"data row26 col22\" >0</td>\n",
       "      <td id=\"T_eefab_row26_col23\" class=\"data row26 col23\" >0</td>\n",
       "      <td id=\"T_eefab_row26_col24\" class=\"data row26 col24\" >0</td>\n",
       "      <td id=\"T_eefab_row26_col25\" class=\"data row26 col25\" >0</td>\n",
       "      <td id=\"T_eefab_row26_col26\" class=\"data row26 col26\" >0</td>\n",
       "      <td id=\"T_eefab_row26_col27\" class=\"data row26 col27\" >0</td>\n",
       "    </tr>\n",
       "    <tr>\n",
       "      <th id=\"T_eefab_level0_row27\" class=\"row_heading level0 row27\" >27</th>\n",
       "      <td id=\"T_eefab_row27_col0\" class=\"data row27 col0\" >0</td>\n",
       "      <td id=\"T_eefab_row27_col1\" class=\"data row27 col1\" >0</td>\n",
       "      <td id=\"T_eefab_row27_col2\" class=\"data row27 col2\" >0</td>\n",
       "      <td id=\"T_eefab_row27_col3\" class=\"data row27 col3\" >0</td>\n",
       "      <td id=\"T_eefab_row27_col4\" class=\"data row27 col4\" >0</td>\n",
       "      <td id=\"T_eefab_row27_col5\" class=\"data row27 col5\" >0</td>\n",
       "      <td id=\"T_eefab_row27_col6\" class=\"data row27 col6\" >0</td>\n",
       "      <td id=\"T_eefab_row27_col7\" class=\"data row27 col7\" >0</td>\n",
       "      <td id=\"T_eefab_row27_col8\" class=\"data row27 col8\" >0</td>\n",
       "      <td id=\"T_eefab_row27_col9\" class=\"data row27 col9\" >0</td>\n",
       "      <td id=\"T_eefab_row27_col10\" class=\"data row27 col10\" >0</td>\n",
       "      <td id=\"T_eefab_row27_col11\" class=\"data row27 col11\" >0</td>\n",
       "      <td id=\"T_eefab_row27_col12\" class=\"data row27 col12\" >0</td>\n",
       "      <td id=\"T_eefab_row27_col13\" class=\"data row27 col13\" >0</td>\n",
       "      <td id=\"T_eefab_row27_col14\" class=\"data row27 col14\" >0</td>\n",
       "      <td id=\"T_eefab_row27_col15\" class=\"data row27 col15\" >0</td>\n",
       "      <td id=\"T_eefab_row27_col16\" class=\"data row27 col16\" >0</td>\n",
       "      <td id=\"T_eefab_row27_col17\" class=\"data row27 col17\" >0</td>\n",
       "      <td id=\"T_eefab_row27_col18\" class=\"data row27 col18\" >0</td>\n",
       "      <td id=\"T_eefab_row27_col19\" class=\"data row27 col19\" >0</td>\n",
       "      <td id=\"T_eefab_row27_col20\" class=\"data row27 col20\" >0</td>\n",
       "      <td id=\"T_eefab_row27_col21\" class=\"data row27 col21\" >0</td>\n",
       "      <td id=\"T_eefab_row27_col22\" class=\"data row27 col22\" >0</td>\n",
       "      <td id=\"T_eefab_row27_col23\" class=\"data row27 col23\" >0</td>\n",
       "      <td id=\"T_eefab_row27_col24\" class=\"data row27 col24\" >0</td>\n",
       "      <td id=\"T_eefab_row27_col25\" class=\"data row27 col25\" >0</td>\n",
       "      <td id=\"T_eefab_row27_col26\" class=\"data row27 col26\" >0</td>\n",
       "      <td id=\"T_eefab_row27_col27\" class=\"data row27 col27\" >0</td>\n",
       "    </tr>\n",
       "  </tbody>\n",
       "</table>\n"
      ],
      "text/plain": [
       "<pandas.io.formats.style.Styler at 0x17cf5fcb0>"
      ]
     },
     "execution_count": 8,
     "metadata": {},
     "output_type": "execute_result"
    }
   ],
   "source": [
    "# Using pandas DataFrame to color-code the values using a gradient \n",
    "im3_t = tensor(im3)\n",
    "df = pd.DataFrame(im3_t)\n",
    "df.style.set_properties(**{'font-size': '6pt'}).background_gradient('Greys')"
   ]
  },
  {
   "cell_type": "markdown",
   "metadata": {},
   "source": [
    "## A baseline model: Pixel Similarity \n",
    "How does a computer might be able to recognize these two digits? Naively speaking, an ideal image is used to be compared with every image from pixel to pixel. The MAE or MSE can be used as a metric. This is a baseline model, becuase it is difficult to tell images when we shift digit in some images.\n"
   ]
  },
  {
   "cell_type": "code",
   "execution_count": 9,
   "metadata": {},
   "outputs": [
    {
     "data": {
      "text/plain": [
       "(6131, 6265)"
      ]
     },
     "execution_count": 9,
     "metadata": {},
     "output_type": "execute_result"
    }
   ],
   "source": [
    "three_tensors = [tensor(Image.open(s)) for s in three]\n",
    "seven_tensors = [tensor(Image.open(s)) for s in seven]\n",
    "len(three_tensors), len(seven_tensors)"
   ]
  },
  {
   "cell_type": "code",
   "execution_count": 10,
   "metadata": {},
   "outputs": [
    {
     "data": {
      "text/plain": [
       "<Axes: >"
      ]
     },
     "execution_count": 10,
     "metadata": {},
     "output_type": "execute_result"
    },
    {
     "data": {
      "image/png": "[encoded data removed]",
      "text/plain": [
       "<Figure size 100x100 with 1 Axes>"
      ]
     },
     "metadata": {},
     "output_type": "display_data"
    }
   ],
   "source": [
    "# Convert an pixel tensor to an image \n",
    "matplotlib.rc('image', cmap = \"Greys\")\n",
    "show_image(three_tensors[5])\n"
   ]
  },
  {
   "cell_type": "markdown",
   "metadata": {},
   "source": [
    "Applying tensor broadcasting to calculate the distance between an image from valid dataset and the ideal image 3 or 7"
   ]
  },
  {
   "cell_type": "code",
   "execution_count": 11,
   "metadata": {},
   "outputs": [],
   "source": [
    "# add an new dimesnion dim=0 and normalized it, and get an average ideal image\n",
    "stack_threes = torch.stack(three_tensors).float()/255\n",
    "stack_sevens = torch.stack(seven_tensors).float()/255\n",
    "ave_threes = stack_threes.mean(0)\n",
    "ave_sevens = stack_sevens.mean(0)"
   ]
  },
  {
   "cell_type": "code",
   "execution_count": 12,
   "metadata": {},
   "outputs": [
    {
     "data": {
      "text/plain": [
       "<Axes: >"
      ]
     },
     "execution_count": 12,
     "metadata": {},
     "output_type": "execute_result"
    },
    {
     "data": {
      "image/png": "[encoded data removed]",
      "text/plain": [
       "<Figure size 100x100 with 1 Axes>"
      ]
     },
     "metadata": {},
     "output_type": "display_data"
    }
   ],
   "source": [
    "show_image(ave_threes)"
   ]
  },
  {
   "cell_type": "markdown",
   "metadata": {},
   "source": [
    "Define metrics \n",
    "1. Define a 'distance' between an ideal image and an image that is needed to predict:\n",
    "- L1 norm: mean absolute error (MAE)\n",
    "- L2 norm: root mean squared error (RMSE)"
   ]
  },
  {
   "cell_type": "code",
   "execution_count": 14,
   "metadata": {},
   "outputs": [],
   "source": [
    "#(path/'valid'/'3').ls()"
   ]
  },
  {
   "cell_type": "code",
   "execution_count": 15,
   "metadata": {},
   "outputs": [
    {
     "data": {
      "text/plain": [
       "(torch.Size([1010, 28, 28]), torch.Size([1028, 28, 28]))"
      ]
     },
     "execution_count": 15,
     "metadata": {},
     "output_type": "execute_result"
    }
   ],
   "source": [
    "valid_tensor_threes = torch.stack([tensor(Image.open(s)) for s in (path/'valid'/'3').ls()])\n",
    "valid_tensor_sevens = torch.stack([tensor(Image.open(s)) for s in (path/'valid'/'7').ls()])\n",
    "valid_tensor_threes = valid_tensor_threes.float()/255\n",
    "valid_tensor_sevens = valid_tensor_sevens.float()/255\n",
    "valid_tensor_threes.shape, valid_tensor_sevens.shape"
   ]
  },
  {
   "cell_type": "code",
   "execution_count": 16,
   "metadata": {},
   "outputs": [
    {
     "name": "stdout",
     "output_type": "stream",
     "text": [
      "mae: tensor(0.1114) tensor(0.1586)\n",
      "rmse: tensor(0.0408) tensor(0.0913)\n"
     ]
    }
   ],
   "source": [
    "def mnist_mae(a, b):\n",
    "    return (a-b).abs().mean((-1,-2)) # The argument (-1, -2) specifies which dimensions to average over\n",
    "\n",
    "def mnist_rmse(a, b):\n",
    "    return ((a-b)**2).abs().mean((-1, -2))\n",
    "\n",
    "a_3 = stack_threes[1]\n",
    "print('mae:', mnist_mae(a_3, ave_threes), mnist_mae(a_3, ave_sevens))\n",
    "print('rmse:', mnist_rmse(a_3, ave_threes), mnist_rmse(a_3, ave_sevens))"
   ]
  },
  {
   "cell_type": "code",
   "execution_count": 17,
   "metadata": {},
   "outputs": [],
   "source": [
    "valid_3_dist = mnist_mae(valid_tensor_threes, ave_threes)\n",
    "valid_3_dist = mnist_rmse(valid_tensor_sevens, ave_threes)"
   ]
  },
  {
   "cell_type": "code",
   "execution_count": 18,
   "metadata": {},
   "outputs": [
    {
     "data": {
      "text/plain": [
       "(tensor(True), tensor(1.))"
      ]
     },
     "execution_count": 18,
     "metadata": {},
     "output_type": "execute_result"
    }
   ],
   "source": [
    "def is_3(x):\n",
    "    return mnist_mae(x, ave_threes) < mnist_mae(x, ave_sevens)\n",
    "def is_7(x):\n",
    "    return mnist_mae(x, ave_sevens) < mnist_mae(x, ave_threes)\n",
    "is_3(a_3), is_3(a_3).float()"
   ]
  },
  {
   "cell_type": "markdown",
   "metadata": {},
   "source": [
    "The accuracy "
   ]
  },
  {
   "cell_type": "code",
   "execution_count": 19,
   "metadata": {},
   "outputs": [
    {
     "data": {
      "text/plain": [
       "(tensor(0.9168), tensor(0.9854), tensor(0.9511))"
      ]
     },
     "execution_count": 19,
     "metadata": {},
     "output_type": "execute_result"
    }
   ],
   "source": [
    "# Acuracy:\n",
    "accuracy_3s = is_3(valid_tensor_threes).float().mean()\n",
    "accuracy_7s = is_7(valid_tensor_sevens).float().mean()\n",
    "accuracy_3s,accuracy_7s,(accuracy_3s+accuracy_7s)/2"
   ]
  },
  {
   "cell_type": "code",
   "execution_count": 20,
   "metadata": {},
   "outputs": [
    {
     "data": {
      "text/plain": [
       "array([array([1]), array([2, 3])], dtype=object)"
      ]
     },
     "execution_count": 20,
     "metadata": {},
     "output_type": "execute_result"
    }
   ],
   "source": [
    "#Note numpy array can be a jagged array throght setting dtype = object, while tensor is only a multidimensional table of data.\n",
    "#Pytorch tensor structures can live on GPU, optimize their computation for GPU, and calculate derivatives of these operations. \n",
    "array([array([1]),array([2,3])], dtype = object)"
   ]
  },
  {
   "cell_type": "markdown",
   "metadata": {},
   "source": [
    "Observation: we obtained over 90% accruracy on both 3s and 7s. \n",
    "'3' and '7' are very different-looking. We are going to need to do better\n",
    "Let us develop another model to automatically modify itself to improve performance"
   ]
  },
  {
   "cell_type": "markdown",
   "metadata": {},
   "source": [
    "# Stochastic Gradient Descent \n",
    "This algrithem is based on steepest descent\n",
    "$$\n",
    "f(x_0 + \\delta x) = f(x_0) + f^{\\prime} (x_0)\\delta x +O(\\delta x^2)\n",
    "$$\n",
    "Here, we set $\\delta x = -\\lambda f^{\\prime}(x_0)$ and the learning rate is $\\lambda >0$. It can enable $f(x)$ constantly descreases regardless of $x_0$ being positive or negative.  "
   ]
  },
  {
   "cell_type": "code",
   "execution_count": 21,
   "metadata": {},
   "outputs": [
    {
     "data": {
      "text/plain": [
       "10.75"
      ]
     },
     "execution_count": 21,
     "metadata": {},
     "output_type": "execute_result"
    }
   ],
   "source": [
    "from functools import partial\n",
    "def quad(a, b, c, x):\n",
    "    return a*x**2 + b*x + c \n",
    "def mk_quad(a, b, c):\n",
    "    return partial(quad, a, b, c)\n",
    "\n",
    "f = mk_quad(3, 2, 1)\n",
    "f(1.5)\n"
   ]
  },
  {
   "cell_type": "code",
   "execution_count": 22,
   "metadata": {},
   "outputs": [
    {
     "name": "stdout",
     "output_type": "stream",
     "text": [
      "<class 'torch.Tensor'>\n",
      "<class 'torch.Tensor'>\n",
      "<class 'torch.Tensor'>\n"
     ]
    },
    {
     "data": {
      "text/plain": [
       "(-3.0, 20.0)"
      ]
     },
     "execution_count": 22,
     "metadata": {},
     "output_type": "execute_result"
    },
    {
     "data": {
      "image/png": "[encoded data removed]",
      "text/plain": [
       "<Figure size 640x480 with 1 Axes>"
      ]
     },
     "metadata": {},
     "output_type": "display_data"
    }
   ],
   "source": [
    "from numpy.random import normal, seed, uniform \n",
    "np.random.seed(42)\n",
    "def noise(x, scale):\n",
    "    return normal(scale = scale, size = x.shape) # scale: invariance; size: the number of random numers\n",
    "def add_noise(x, mult, add):\n",
    "    return x*(1+noise(x, mult))+noise(x, add)\n",
    "def g_mse(preds, acts):\n",
    "    return ((preds-acts)**2).mean()\n",
    "x = torch.linspace(-2, 2, steps = 20)[:, None]\n",
    "print(type(x))\n",
    "y = add_noise(f(x), 0.3, 1.5)\n",
    "print(type(x))\n",
    "print(type(g_mse(f(x), y)))\n",
    "plt.scatter(x, y)\n",
    "plt.ylim(-3, 20)"
   ]
  },
  {
   "cell_type": "code",
   "execution_count": 23,
   "metadata": {},
   "outputs": [
    {
     "data": {
      "application/vnd.jupyter.widget-view+json": {
       "model_id": "36940161c7454450ba52014aff4fe252",
       "version_major": 2,
       "version_minor": 0
      },
      "text/plain": [
       "interactive(children=(FloatSlider(value=1.5, description='a', max=4.5, min=-1.5), FloatSlider(value=1.5, descr…"
      ]
     },
     "metadata": {},
     "output_type": "display_data"
    }
   ],
   "source": [
    "from ipywidgets import interact\n",
    "from fastbook import *\n",
    "#import torch.nn.functional as F\n",
    "\n",
    "\n",
    "@interact(a=1.5, b=1.5, c=1.5)\n",
    "def plot_quad(a, b, c):\n",
    "    f = mk_quad(a, b, c)\n",
    "    #x = torch.linspace(-2, 2, steps = 20)[:, None]\n",
    "    #y = add_noise(f(x), 0.3, 1.5)  \n",
    "    #print(type(f(x)))\n",
    "    #print(type(y))\n",
    "    loss = g_mse(f(x), y) # I do not know why this type of loss is TensorBase\n",
    "    #loss1 = loss.as_subclass(torch.Tensor)\n",
    "    #print(type(loss1))  \n",
    "    plot_function(f,  min= -2, max= 2, title = f\"MSE:{loss:.2f}\")\n",
    "    plt.scatter(x, y)\n",
    "\n",
    "    "
   ]
  },
  {
   "cell_type": "markdown",
   "metadata": {},
   "source": [
    "Note: mse is an inherent function from fastai, the type of return from mse is TensorBase"
   ]
  },
  {
   "cell_type": "code",
   "execution_count": 24,
   "metadata": {},
   "outputs": [
    {
     "data": {
      "text/plain": [
       "tensor(5.8336, dtype=torch.float64)"
      ]
     },
     "execution_count": 24,
     "metadata": {},
     "output_type": "execute_result"
    }
   ],
   "source": [
    "def quad_mse(params):\n",
    "    f = mk_quad(*params)\n",
    "    return g_mse(f(x), y)\n",
    "quad_mse([1.5, 1.5, 1.5])"
   ]
  },
  {
   "cell_type": "code",
   "execution_count": 25,
   "metadata": {},
   "outputs": [
    {
     "name": "stdout",
     "output_type": "stream",
     "text": [
      "tensor([1.5000, 1.5000, 1.5000], requires_grad=True)\n"
     ]
    }
   ],
   "source": [
    "abc = torch.tensor([1.5, 1.5, 1.5])\n",
    "abc.requires_grad_()\n",
    "print(abc)\n",
    "loss = quad_mse(abc)\n",
    "loss.backward()"
   ]
  },
  {
   "cell_type": "code",
   "execution_count": 26,
   "metadata": {},
   "outputs": [
    {
     "data": {
      "text/plain": [
       "tensor([-5.1419,  2.8472, -1.1009])"
      ]
     },
     "execution_count": 26,
     "metadata": {},
     "output_type": "execute_result"
    }
   ],
   "source": [
    "abc.grad"
   ]
  },
  {
   "cell_type": "code",
   "execution_count": 27,
   "metadata": {},
   "outputs": [
    {
     "name": "stdout",
     "output_type": "stream",
     "text": [
      "loss: 5.49\n"
     ]
    }
   ],
   "source": [
    "with torch.no_grad():\n",
    "    abc -= abc.grad*0.01\n",
    "    loss = quad_mse(abc)\n",
    "print(f'loss: {loss:.2f}')"
   ]
  },
  {
   "cell_type": "code",
   "execution_count": 29,
   "metadata": {},
   "outputs": [
    {
     "name": "stdout",
     "output_type": "stream",
     "text": [
      "step=0; loss=5.49\n",
      "step=1; loss=5.19\n",
      "step=2; loss=4.69\n",
      "step=3; loss=4.11\n",
      "step=4; loss=3.61\n",
      "step=5; loss=3.30\n",
      "step=0; loss=3.23\n",
      "step=1; loss=3.20\n",
      "step=2; loss=3.15\n",
      "step=3; loss=3.08\n",
      "step=4; loss=3.01\n",
      "step=5; loss=2.93\n",
      "step=6; loss=2.86\n",
      "step=7; loss=2.80\n",
      "step=8; loss=2.76\n",
      "step=9; loss=2.74\n",
      "step=10; loss=2.73\n",
      "step=11; loss=2.72\n",
      "step=12; loss=2.73\n",
      "step=13; loss=2.73\n",
      "step=14; loss=2.72\n",
      "step=15; loss=2.71\n",
      "step=16; loss=2.68\n",
      "step=17; loss=2.65\n",
      "step=18; loss=2.62\n",
      "step=19; loss=2.60\n",
      "step=20; loss=2.58\n",
      "step=21; loss=2.57\n",
      "step=0; loss=2.59\n",
      "step=1; loss=2.58\n",
      "step=2; loss=2.58\n",
      "step=3; loss=2.58\n",
      "step=4; loss=2.57\n",
      "step=5; loss=2.57\n",
      "step=6; loss=2.56\n",
      "step=7; loss=2.55\n",
      "step=8; loss=2.54\n",
      "step=9; loss=2.53\n",
      "step=10; loss=2.52\n",
      "step=11; loss=2.51\n",
      "step=12; loss=2.50\n",
      "step=13; loss=2.49\n",
      "step=14; loss=2.48\n",
      "step=15; loss=2.47\n",
      "step=16; loss=2.45\n",
      "step=17; loss=2.44\n",
      "step=18; loss=2.43\n",
      "step=19; loss=2.42\n",
      "step=20; loss=2.41\n",
      "step=21; loss=2.40\n",
      "step=22; loss=2.39\n",
      "step=23; loss=2.39\n",
      "step=24; loss=2.38\n",
      "step=25; loss=2.38\n",
      "step=26; loss=2.37\n",
      "step=0; loss=2.37\n",
      "step=1; loss=2.37\n",
      "step=2; loss=2.37\n",
      "step=3; loss=2.37\n",
      "step=4; loss=2.37\n",
      "step=5; loss=2.37\n",
      "step=6; loss=2.37\n",
      "step=7; loss=2.37\n",
      "step=8; loss=2.37\n",
      "step=9; loss=2.37\n",
      "step=10; loss=2.37\n",
      "step=11; loss=2.37\n",
      "step=12; loss=2.37\n",
      "step=13; loss=2.37\n",
      "step=14; loss=2.37\n",
      "step=15; loss=2.37\n",
      "step=16; loss=2.37\n",
      "step=17; loss=2.37\n",
      "step=18; loss=2.37\n",
      "step=19; loss=2.37\n",
      "step=20; loss=2.37\n",
      "step=21; loss=2.37\n",
      "step=22; loss=2.37\n",
      "step=23; loss=2.37\n",
      "step=24; loss=2.37\n",
      "step=25; loss=2.37\n",
      "step=26; loss=2.37\n",
      "step=27; loss=2.37\n",
      "step=28; loss=2.37\n",
      "step=29; loss=2.36\n",
      "step=30; loss=2.36\n",
      "step=31; loss=2.36\n",
      "step=32; loss=2.36\n",
      "step=33; loss=2.36\n",
      "step=34; loss=2.36\n",
      "step=35; loss=2.36\n",
      "step=36; loss=2.36\n",
      "step=37; loss=2.36\n",
      "step=38; loss=2.36\n",
      "step=39; loss=2.36\n",
      "step=40; loss=2.36\n",
      "step=41; loss=2.36\n",
      "step=42; loss=2.36\n",
      "step=43; loss=2.36\n",
      "step=44; loss=2.36\n",
      "step=45; loss=2.36\n",
      "step=46; loss=2.36\n",
      "step=47; loss=2.36\n",
      "step=48; loss=2.36\n",
      "step=49; loss=2.36\n"
     ]
    }
   ],
   "source": [
    "# immutable: () \n",
    "# mutable: list, abc\n",
    "def learning(abc, step, lam):\n",
    "    abc_c = abc.clone().detach()\n",
    "    abc_c.requires_grad_()\n",
    "    for i in range(step):\n",
    "        loss = quad_mse(abc_c)\n",
    "        loss.backward()\n",
    "        with torch.no_grad():\n",
    "            abc_c -= abc_c.grad * lam\n",
    "        print(f'step={i}; loss={loss:.2f}')\n",
    "    return abc_c\n",
    "\n",
    "abc_c = learning(abc, 6, 0.01)\n",
    "abc_c = learning(abc_c, 22, 0.005)\n",
    "abc_c = learning(abc_c, 27, 0.001)\n",
    "abc_c = learning(abc_c, 50, 0.0005)"
   ]
  },
  {
   "cell_type": "markdown",
   "metadata": {},
   "source": [
    "Take a simple example to demostrate the derivative $y=x^2$"
   ]
  },
  {
   "cell_type": "code",
   "execution_count": 30,
   "metadata": {},
   "outputs": [
    {
     "data": {
      "text/plain": [
       "tensor(2.)"
      ]
     },
     "execution_count": 30,
     "metadata": {},
     "output_type": "execute_result"
    }
   ],
   "source": [
    "def square(x_t):\n",
    "    return x_t**2\n",
    "x_t = tensor(1.0)\n",
    "x_t.requires_grad_()\n",
    "y_t = square(x_t)\n",
    "y_t.backward()\n",
    "x_t.grad"
   ]
  },
  {
   "cell_type": "code",
   "execution_count": 31,
   "metadata": {},
   "outputs": [
    {
     "name": "stdout",
     "output_type": "stream",
     "text": [
      "True\n",
      "tensor(2.)\n",
      "True\n"
     ]
    },
    {
     "data": {
      "text/plain": [
       "tensor(1.)"
      ]
     },
     "execution_count": 31,
     "metadata": {},
     "output_type": "execute_result"
    }
   ],
   "source": [
    "# tensor.clone().detach().requires_grad_() v.s. tensor.clone()\n",
    "def square(x_t):\n",
    "    return x_t**2\n",
    "x_t = tensor(1.0)\n",
    "x_t.requires_grad_()\n",
    "y_t = square(x_t)\n",
    "yc_t = y_t.clone()\n",
    "print(yc_t.requires_grad)\n",
    "yc_t.backward()\n",
    "\n",
    "print(x_t.grad)\n",
    "x_t.grad.zero_()\n",
    "yc1_t = yc_t.detach().requires_grad_()\n",
    "print(yc1_t.requires_grad)\n",
    "yc1_t.backward()\n",
    "x_t.grad\n",
    "yc1_t.grad\n"
   ]
  },
  {
   "cell_type": "markdown",
   "metadata": {},
   "source": [
    "# The MNIST Loss Function"
   ]
  },
  {
   "cell_type": "code",
   "execution_count": 32,
   "metadata": {},
   "outputs": [
    {
     "name": "stdout",
     "output_type": "stream",
     "text": [
      "three shape, seven shape : torch.Size([6131, 28, 28]), torch.Size([6265, 28, 28])\n",
      "train x shape: torch.Size([12396, 784])\n",
      "train y shape: torch.Size([12396, 1])\n"
     ]
    }
   ],
   "source": [
    "# cook train dataset \n",
    "train_x = torch.cat([stack_threes, stack_sevens]).view(-1, 28*28)\n",
    "print(f'three shape, seven shape : {stack_threes.shape}, {stack_sevens.shape}')\n",
    "print(f'train x shape: {train_x.shape}')\n",
    "train_y = tensor([1]*stack_threes.shape[0]+[0]*stack_sevens.shape[0]).unsqueeze(1) # add a new dimension\n",
    "print(f'train y shape: {train_y.shape}')\n",
    "dataset = list(zip(train_x, train_y))"
   ]
  },
  {
   "cell_type": "code",
   "execution_count": 33,
   "metadata": {},
   "outputs": [],
   "source": [
    "# cook validation dataset \n",
    "valid_x = torch.cat([valid_tensor_threes, valid_tensor_sevens]).view(-1, 28*28)\n",
    "valid_y = tensor([1]*valid_tensor_threes.shape[0]+[0]*valid_tensor_sevens.shape[0]).unsqueeze(1)\n",
    "valid_dataset = list(zip(valid_x, valid_y))"
   ]
  },
  {
   "cell_type": "markdown",
   "metadata": {},
   "source": [
    "Define an initialization function, that initially gives every pixel a random weight "
   ]
  },
  {
   "cell_type": "code",
   "execution_count": 34,
   "metadata": {},
   "outputs": [],
   "source": [
    "def init_params(size, std = 1.0):\n",
    "    return (torch.randn(size)*std).requires_grad_()\n",
    "weights = init_params((28*28, 1))\n",
    "bias = init_params(1)"
   ]
  },
  {
   "cell_type": "code",
   "execution_count": 37,
   "metadata": {},
   "outputs": [],
   "source": [
    "#print(train_x[0].shape)\n",
    "#print(weights.shape)\n",
    "#train_x[0].T"
   ]
  },
  {
   "cell_type": "code",
   "execution_count": 38,
   "metadata": {},
   "outputs": [
    {
     "name": "stdout",
     "output_type": "stream",
     "text": [
      "torch.Size([3])\n",
      "torch.Size([3, 1])\n",
      "tensor([[1, 2, 3]])\n",
      "torch.Size([1, 3])\n",
      "tensor([[1, 4, 9]])\n"
     ]
    }
   ],
   "source": [
    "aa = tensor([1, 2, 3])\n",
    "bb = tensor([[1], [2], [3]])\n",
    "print(aa.shape)\n",
    "print(bb.shape)\n",
    "print(bb.T)\n",
    "print((aa * bb.T).shape)\n",
    "print(aa*bb.T)"
   ]
  },
  {
   "cell_type": "code",
   "execution_count": 39,
   "metadata": {},
   "outputs": [
    {
     "data": {
      "text/plain": [
       "tensor([-6.2330], grad_fn=<AddBackward0>)"
      ]
     },
     "execution_count": 39,
     "metadata": {},
     "output_type": "execute_result"
    }
   ],
   "source": [
    "(weights.T*train_x[0]).sum() + bias "
   ]
  },
  {
   "cell_type": "markdown",
   "metadata": {},
   "source": [
    "Using matrix multiplication "
   ]
  },
  {
   "cell_type": "code",
   "execution_count": 40,
   "metadata": {},
   "outputs": [
    {
     "data": {
      "text/plain": [
       "tensor([[ -6.2330],\n",
       "        [-10.6388],\n",
       "        [-20.8865],\n",
       "        ...,\n",
       "        [-15.9176],\n",
       "        [ -1.6866],\n",
       "        [-11.3568]], grad_fn=<AddBackward0>)"
      ]
     },
     "execution_count": 40,
     "metadata": {},
     "output_type": "execute_result"
    }
   ],
   "source": [
    "def linear1(xb):\n",
    "    return xb@weights + bias \n",
    "\n",
    "preds = linear1(train_x)\n",
    "preds"
   ]
  },
  {
   "cell_type": "markdown",
   "metadata": {},
   "source": [
    "Observe that a variation in the accuracy induced by a change of coefficient "
   ]
  },
  {
   "cell_type": "code",
   "execution_count": 41,
   "metadata": {},
   "outputs": [
    {
     "data": {
      "text/plain": [
       "tensor(0.5380)"
      ]
     },
     "execution_count": 41,
     "metadata": {},
     "output_type": "execute_result"
    }
   ],
   "source": [
    "corrects = (preds > 0.0).float() == train_y\n",
    "corrects.float().mean()"
   ]
  },
  {
   "cell_type": "code",
   "execution_count": 42,
   "metadata": {},
   "outputs": [
    {
     "data": {
      "text/plain": [
       "tensor(0.5380)"
      ]
     },
     "execution_count": 42,
     "metadata": {},
     "output_type": "execute_result"
    }
   ],
   "source": [
    "with torch.no_grad():\n",
    "    weights[0] = weights[0]*1.0001\n",
    "preds = linear1(train_x)\n",
    "corrects = (preds > 0.0).float() == train_y\n",
    "corrects.float().mean()"
   ]
  },
  {
   "cell_type": "markdown",
   "metadata": {},
   "source": [
    "The conclustion: the accuracy remains the same when the coefficient varies. Therefore, An accuracy or a metrics is not an appropriate function for the optimizing coefficients. We have to create a differentiable function to make it. This function is called as a loss function."
   ]
  },
  {
   "cell_type": "markdown",
   "metadata": {},
   "source": [
    "loss function "
   ]
  },
  {
   "cell_type": "markdown",
   "metadata": {},
   "source": [
    "we use sigmoid function to map a linear value to a pobability value. This probability means predicting sth with certain confidence.\n",
    "When `preds.sigmoid()>0.5` means \n"
   ]
  },
  {
   "cell_type": "code",
   "execution_count": 43,
   "metadata": {},
   "outputs": [],
   "source": [
    "#help(torch.where)\n",
    "def mnist_loss(preds, targs):\n",
    "    return torch.where(targs==1, 1-preds.sigmoid(), preds.sigmoid()).mean()"
   ]
  },
  {
   "cell_type": "code",
   "execution_count": 44,
   "metadata": {},
   "outputs": [
    {
     "data": {
      "text/plain": [
       "tensor(0.3991)"
      ]
     },
     "execution_count": 44,
     "metadata": {},
     "output_type": "execute_result"
    }
   ],
   "source": [
    "a = tensor([1,2,3]).unsqueeze(1)\n",
    "b = tensor([1, 0, 1]).unsqueeze(1)\n",
    "mnist_loss(a, b)"
   ]
  },
  {
   "cell_type": "code",
   "execution_count": 45,
   "metadata": {},
   "outputs": [
    {
     "data": {
      "text/plain": [
       "tensor([[1],\n",
       "        [2],\n",
       "        [3]])"
      ]
     },
     "execution_count": 45,
     "metadata": {},
     "output_type": "execute_result"
    }
   ],
   "source": [
    "tensor([1,2,3]).unsqueeze(1)"
   ]
  },
  {
   "cell_type": "markdown",
   "metadata": {},
   "source": [
    "tensor([1,2,3]).unsqueeze(1)"
   ]
  },
  {
   "cell_type": "code",
   "execution_count": 46,
   "metadata": {},
   "outputs": [
    {
     "data": {
      "image/png": "[encoded data removed]",
      "text/plain": [
       "<Figure size 600x400 with 1 Axes>"
      ]
     },
     "metadata": {},
     "output_type": "display_data"
    }
   ],
   "source": [
    "tensor([1 ,2 ,3]).sigmoid()\n",
    "plot_function(torch.sigmoid, min=-4, max=4, title='sigmoid')"
   ]
  },
  {
   "cell_type": "markdown",
   "metadata": {},
   "source": [
    "# SGD and Mini-Batches"
   ]
  },
  {
   "cell_type": "markdown",
   "metadata": {},
   "source": [
    "Let us go to the phase of the learning process, which is to update the weights based on the gradients (optimization step)."
   ]
  },
  {
   "cell_type": "markdown",
   "metadata": {},
   "source": [
    "## Let us implement the optimization step."
   ]
  },
  {
   "cell_type": "code",
   "execution_count": 47,
   "metadata": {},
   "outputs": [
    {
     "data": {
      "text/plain": [
       "[tensor([3, 8, 2, 5, 4]), tensor([7, 9, 1, 0, 6])]"
      ]
     },
     "execution_count": 47,
     "metadata": {},
     "output_type": "execute_result"
    }
   ],
   "source": [
    "# demonstrate how to use DataLoader \n",
    "coll = range(10)\n",
    "dl = DataLoader(coll, batch_size = 5, shuffle = True)\n",
    "list(dl)"
   ]
  },
  {
   "cell_type": "code",
   "execution_count": 48,
   "metadata": {},
   "outputs": [
    {
     "name": "stdout",
     "output_type": "stream",
     "text": [
      "[(tensor([17, 18, 10, 22,  8, 14]), ('r', 's', 'k', 'w', 'i', 'o')), (tensor([20, 15,  9, 13, 21, 12]), ('u', 'p', 'j', 'n', 'v', 'm')), (tensor([ 7, 25,  6,  5, 11, 23]), ('h', 'z', 'g', 'f', 'l', 'x')), (tensor([ 1,  3,  0, 24, 19, 16]), ('b', 'd', 'a', 'y', 't', 'q')), (tensor([2, 4]), ('c', 'e'))]\n",
      "[(tensor([0, 1, 2, 3, 4, 5]), ('a', 'b', 'c', 'd', 'e', 'f')), (tensor([ 6,  7,  8,  9, 10, 11]), ('g', 'h', 'i', 'j', 'k', 'l')), (tensor([12, 13, 14, 15, 16, 17]), ('m', 'n', 'o', 'p', 'q', 'r')), (tensor([18, 19, 20, 21, 22, 23]), ('s', 't', 'u', 'v', 'w', 'x')), (tensor([24, 25]), ('y', 'z'))]\n"
     ]
    }
   ],
   "source": [
    "ds = L(enumerate(string.ascii_lowercase))\n",
    "dl_ds = DataLoader(ds, batch_size = 6, shuffle = True)\n",
    "print(list(dl_ds))\n",
    "dl_ds = DataLoader(ds, batch_size = 6)\n",
    "print(list(dl_ds))\n"
   ]
  },
  {
   "cell_type": "code",
   "execution_count": 49,
   "metadata": {},
   "outputs": [
    {
     "data": {
      "text/plain": [
       "[(tensor([6, 3, 1]), ('b', 'a', 'a')),\n",
       " (tensor([2, 4, 7]), ('a', 'b', 'b')),\n",
       " (tensor([5]), ('b',))]"
      ]
     },
     "execution_count": 49,
     "metadata": {},
     "output_type": "execute_result"
    }
   ],
   "source": [
    "dss = [(1, 'a'), (2, 'a'), (3, 'a'), (4, 'b'), (5, 'b'), (6, 'b'),(7, 'b')]\n",
    "dl_dss = DataLoader(dss, batch_size = 3, shuffle = True)\n",
    "list(dl_dss)"
   ]
  },
  {
   "cell_type": "code",
   "execution_count": null,
   "metadata": {},
   "outputs": [],
   "source": []
  },
  {
   "cell_type": "code",
   "execution_count": 50,
   "metadata": {},
   "outputs": [
    {
     "data": {
      "text/plain": [
       "(torch.Size([256, 784]), torch.Size([256, 1]))"
      ]
     },
     "execution_count": 50,
     "metadata": {},
     "output_type": "execute_result"
    }
   ],
   "source": [
    "dl = DataLoader(dataset, batch_size = 256)\n",
    "valid_dl = DataLoader(valid_dataset, batch_size = 256)\n",
    "xb, yb = first(dl)\n",
    "xb.shape, yb.shape"
   ]
  },
  {
   "cell_type": "code",
   "execution_count": 51,
   "metadata": {},
   "outputs": [
    {
     "name": "stdout",
     "output_type": "stream",
     "text": [
      "torch.Size([4, 784])\n",
      "tensor([[ -6.2330],\n",
      "        [-10.6388],\n",
      "        [-20.8865],\n",
      "        [-17.8700]], grad_fn=<AddBackward0>)\n",
      "tensor(0.9995, grad_fn=<MeanBackward0>)\n"
     ]
    },
    {
     "data": {
      "text/plain": [
       "(torch.Size([784, 1]), tensor(-7.0675e-05), tensor([-0.0005]))"
      ]
     },
     "execution_count": 51,
     "metadata": {},
     "output_type": "execute_result"
    }
   ],
   "source": [
    "batch = train_x[:4]\n",
    "print(batch.shape)\n",
    "preds = linear1(batch)\n",
    "print(preds)\n",
    "loss = mnist_loss(preds, train_y[:4])\n",
    "print(loss)\n",
    "loss.backward()\n",
    "weights.grad.shape, weights.grad.mean(), bias.grad"
   ]
  },
  {
   "cell_type": "code",
   "execution_count": 52,
   "metadata": {},
   "outputs": [
    {
     "data": {
      "text/plain": [
       "(tensor(-0.0001), tensor([-0.0010]))"
      ]
     },
     "execution_count": 52,
     "metadata": {},
     "output_type": "execute_result"
    }
   ],
   "source": [
    "def calc_grad(xb, yb, model):\n",
    "    preds = model(xb)\n",
    "    loss = mnist_loss(preds, yb)\n",
    "    #print(loss)\n",
    "    loss.backward()\n",
    "\n",
    "calc_grad(batch, train_y[:4], linear1)\n",
    "weights.grad.mean(), bias.grad"
   ]
  },
  {
   "cell_type": "code",
   "execution_count": 53,
   "metadata": {},
   "outputs": [
    {
     "name": "stdout",
     "output_type": "stream",
     "text": [
      "aa gradient before: None\n",
      "aa gradient after: 6.0\n",
      "aa gradient before: 6.0\n",
      "aa gradient after: 12.0\n",
      "aa gradient before: 12.0\n",
      "aa gradient after: 18.0\n"
     ]
    }
   ],
   "source": [
    "# To understand that loss.backward adds the gradients of loss to any gradients that are currently stored, we take an example to demonstrate it.\n",
    "aa = tensor(3.0).requires_grad_()\n",
    "for j in range(3):\n",
    "    print(f'aa gradient before: {aa.grad}')\n",
    "    yaa = aa**2\n",
    "    yaa.backward()\n",
    "    print(f'aa gradient after: {aa.grad}')\n",
    "    #aa.grad.zero_()\n"
   ]
  },
  {
   "cell_type": "code",
   "execution_count": 54,
   "metadata": {},
   "outputs": [
    {
     "name": "stdout",
     "output_type": "stream",
     "text": [
      "tensor(6.)\n",
      "tensor(3., requires_grad=True)\n",
      "True\n",
      "tensor(2., requires_grad=True)\n",
      "tensor(4.)\n"
     ]
    }
   ],
   "source": [
    "x = torch.tensor(3.0, requires_grad=True)\n",
    "y = x ** 2  # calculate  y = x^2\n",
    "y.backward()  # dy/dx = 2x = 6, and the computational graph is cleared\n",
    "print(x.grad)  # output: tensor(6.)\n",
    "print(x)\n",
    "\n",
    "x.data -= 1  # revise the value of x, but it is not told to computational graph \n",
    "#x = x + 1 # it is told to computational graph\n",
    "print(x.requires_grad)\n",
    "#x.grad.zero_()\n",
    "print(x)\n",
    "y = x ** 2 # reclaim the function \n",
    "x.grad.zero_()\n",
    "y.backward()\n",
    "print(x.grad) "
   ]
  },
  {
   "cell_type": "code",
   "execution_count": 55,
   "metadata": {},
   "outputs": [],
   "source": [
    "def train_epoch(model, lr, params):\n",
    "    for xb, yb in dl:\n",
    "        calc_grad(xb, yb, model)\n",
    "        for p in params:\n",
    "            p.data -= p.grad*lr\n",
    "            p.grad.zero_()"
   ]
  },
  {
   "cell_type": "code",
   "execution_count": 56,
   "metadata": {},
   "outputs": [
    {
     "data": {
      "text/plain": [
       "tensor(0.)"
      ]
     },
     "execution_count": 56,
     "metadata": {},
     "output_type": "execute_result"
    }
   ],
   "source": [
    "def batch_accuracy(xb, yb):\n",
    "    preds = xb.sigmoid()\n",
    "    correct = (preds>0.5) == yb\n",
    "    return correct.float().mean()\n",
    "\n",
    "batch_accuracy(linear1(batch), train_y[:4])"
   ]
  },
  {
   "cell_type": "code",
   "execution_count": 57,
   "metadata": {},
   "outputs": [
    {
     "data": {
      "text/plain": [
       "0.5475"
      ]
     },
     "execution_count": 57,
     "metadata": {},
     "output_type": "execute_result"
    }
   ],
   "source": [
    "def validate_epoch(model):\n",
    "    accs = [batch_accuracy(model(xb), yb) for xb, yb in valid_dl]\n",
    "    return round(torch.stack(accs).mean().item(), 4) \n",
    "validate_epoch(linear1)"
   ]
  },
  {
   "cell_type": "code",
   "execution_count": 58,
   "metadata": {},
   "outputs": [
    {
     "data": {
      "text/plain": [
       "0.7308"
      ]
     },
     "execution_count": 58,
     "metadata": {},
     "output_type": "execute_result"
    }
   ],
   "source": [
    "lr = 1.0\n",
    "params = weights,bias\n",
    "train_epoch(linear1, lr, params)\n",
    "validate_epoch(linear1)"
   ]
  },
  {
   "cell_type": "code",
   "execution_count": 59,
   "metadata": {},
   "outputs": [
    {
     "name": "stdout",
     "output_type": "stream",
     "text": [
      "0.8505 0.9012 0.9291 0.9388 0.9442 0.9525 0.9545 0.9589 0.9613 0.9623 0.9623 0.9633 0.9637 0.9647 0.9662 0.9667 0.9672 0.9672 0.9677 0.9682 "
     ]
    }
   ],
   "source": [
    "for i in range(20):\n",
    "    train_epoch(linear1, lr, params)\n",
    "    print(validate_epoch(linear1), end =' ')"
   ]
  },
  {
   "cell_type": "markdown",
   "metadata": {},
   "source": [
    "# Creating an Optimizer\n",
    "PyTorch provides some useful classes to make it easier to implement.\n",
    "1. linear function --> PyTorch `nn.Linear` module. \n",
    "2. module"
   ]
  },
  {
   "cell_type": "code",
   "execution_count": 60,
   "metadata": {},
   "outputs": [
    {
     "data": {
      "text/plain": [
       "(torch.Size([1, 784]), torch.Size([1]))"
      ]
     },
     "execution_count": 60,
     "metadata": {},
     "output_type": "execute_result"
    }
   ],
   "source": [
    "linear_model = nn.Linear(28*28, 1)\n",
    "w, b = linear_model.parameters()\n",
    "w.shape, b.shape"
   ]
  },
  {
   "cell_type": "code",
   "execution_count": 61,
   "metadata": {},
   "outputs": [],
   "source": [
    "class BasicOptim:\n",
    "    def __init__(self, params, lr):\n",
    "        self.params, self.lr = list(params), lr\n",
    "    def step(self, *args, **kwargs):\n",
    "        for p in self.params:\n",
    "            p.data -=p.grad.data*self.lr\n",
    "    def zero_grad(self, *arg, **kwargs):\n",
    "        for p in self.params:\n",
    "            p.grad = None\n",
    "\n",
    "opt = BasicOptim(linear_model.parameters(), lr)\n",
    "                "
   ]
  },
  {
   "cell_type": "code",
   "execution_count": 62,
   "metadata": {},
   "outputs": [],
   "source": [
    "def train_epoch(model):\n",
    "    for xb, yb in dl:\n",
    "        calc_grad(xb, yb, model)\n",
    "        opt.step()\n",
    "        opt.zero_grad()\n",
    "def train_model(model, epochs):\n",
    "    for i in range(epochs):\n",
    "        train_epoch(model)\n",
    "        print(validate_epoch(model), end=' ')"
   ]
  },
  {
   "cell_type": "code",
   "execution_count": 63,
   "metadata": {},
   "outputs": [
    {
     "data": {
      "text/plain": [
       "0.5238"
      ]
     },
     "execution_count": 63,
     "metadata": {},
     "output_type": "execute_result"
    }
   ],
   "source": [
    "validate_epoch(linear_model)"
   ]
  },
  {
   "cell_type": "code",
   "execution_count": 64,
   "metadata": {},
   "outputs": [
    {
     "name": "stdout",
     "output_type": "stream",
     "text": [
      "0.4932 0.8013 0.8525 0.917 0.935 0.9487 0.956 0.9634 0.9658 0.9668 0.9697 0.9712 0.9741 0.9746 0.9756 0.977 0.9775 0.978 0.978 0.9785 "
     ]
    }
   ],
   "source": [
    "train_model(linear_model, 20)"
   ]
  },
  {
   "cell_type": "markdown",
   "metadata": {},
   "source": [
    "fastai provides the SGD class that does the same thing as our BasicOptims"
   ]
  },
  {
   "cell_type": "code",
   "execution_count": 65,
   "metadata": {},
   "outputs": [
    {
     "name": "stdout",
     "output_type": "stream",
     "text": [
      "0.4932 0.7456 0.8525 0.916 0.935 0.9492 0.9565 0.9643 0.9663 0.9692 0.9702 0.9717 0.9741 0.9751 0.9761 0.977 0.9775 0.978 0.9785 0.979 "
     ]
    }
   ],
   "source": [
    "linear_model = nn.Linear(28*28, 1)\n",
    "opt=SGD(linear_model.parameters(), lr)\n",
    "train_model(linear_model, 20)"
   ]
  },
  {
   "cell_type": "markdown",
   "metadata": {},
   "source": [
    "Instead of train_model, we can use Learner.fit from fastai. To create a Learner, we first need to create a DataLoaders, \n",
    "by passing in our training and validation DataLoaders:"
   ]
  },
  {
   "cell_type": "code",
   "execution_count": 68,
   "metadata": {},
   "outputs": [
    {
     "data": {
      "text/html": [
       "\n",
       "<style>\n",
       "    /* Turns off some styling */\n",
       "    progress {\n",
       "        /* gets rid of default border in Firefox and Opera. */\n",
       "        border: none;\n",
       "        /* Needs to be in here for Safari polyfill so background images work as expected. */\n",
       "        background-size: auto;\n",
       "    }\n",
       "    progress:not([value]), progress:not([value])::-webkit-progress-bar {\n",
       "        background: repeating-linear-gradient(45deg, #7e7e7e, #7e7e7e 10px, #5c5c5c 10px, #5c5c5c 20px);\n",
       "    }\n",
       "    .progress-bar-interrupted, .progress-bar-interrupted::-webkit-progress-bar {\n",
       "        background: #F44336;\n",
       "    }\n",
       "</style>\n"
      ],
      "text/plain": [
       "<IPython.core.display.HTML object>"
      ]
     },
     "metadata": {},
     "output_type": "display_data"
    },
    {
     "data": {
      "text/html": [
       "<table border=\"1\" class=\"dataframe\">\n",
       "  <thead>\n",
       "    <tr style=\"text-align: left;\">\n",
       "      <th>epoch</th>\n",
       "      <th>train_loss</th>\n",
       "      <th>valid_loss</th>\n",
       "      <th>batch_accuracy</th>\n",
       "      <th>time</th>\n",
       "    </tr>\n",
       "  </thead>\n",
       "  <tbody>\n",
       "    <tr>\n",
       "      <td>0</td>\n",
       "      <td>0.636822</td>\n",
       "      <td>0.503491</td>\n",
       "      <td>0.495584</td>\n",
       "      <td>00:00</td>\n",
       "    </tr>\n",
       "    <tr>\n",
       "      <td>1</td>\n",
       "      <td>0.526316</td>\n",
       "      <td>0.200708</td>\n",
       "      <td>0.825810</td>\n",
       "      <td>00:00</td>\n",
       "    </tr>\n",
       "    <tr>\n",
       "      <td>2</td>\n",
       "      <td>0.193482</td>\n",
       "      <td>0.175509</td>\n",
       "      <td>0.842002</td>\n",
       "      <td>00:00</td>\n",
       "    </tr>\n",
       "    <tr>\n",
       "      <td>3</td>\n",
       "      <td>0.084752</td>\n",
       "      <td>0.105641</td>\n",
       "      <td>0.912659</td>\n",
       "      <td>00:00</td>\n",
       "    </tr>\n",
       "    <tr>\n",
       "      <td>4</td>\n",
       "      <td>0.044736</td>\n",
       "      <td>0.077531</td>\n",
       "      <td>0.933268</td>\n",
       "      <td>00:00</td>\n",
       "    </tr>\n",
       "    <tr>\n",
       "      <td>5</td>\n",
       "      <td>0.029116</td>\n",
       "      <td>0.062228</td>\n",
       "      <td>0.947498</td>\n",
       "      <td>00:00</td>\n",
       "    </tr>\n",
       "    <tr>\n",
       "      <td>6</td>\n",
       "      <td>0.022705</td>\n",
       "      <td>0.052672</td>\n",
       "      <td>0.955348</td>\n",
       "      <td>00:00</td>\n",
       "    </tr>\n",
       "    <tr>\n",
       "      <td>7</td>\n",
       "      <td>0.019858</td>\n",
       "      <td>0.046304</td>\n",
       "      <td>0.961727</td>\n",
       "      <td>00:00</td>\n",
       "    </tr>\n",
       "  </tbody>\n",
       "</table>"
      ],
      "text/plain": [
       "<IPython.core.display.HTML object>"
      ]
     },
     "metadata": {},
     "output_type": "display_data"
    }
   ],
   "source": [
    "dls = DataLoaders(dl, valid_dl)\n",
    "# Learner(`DataLoaders`, `model`,  'the optimization function', 'the loss function', 'metrics')\n",
    "learn = Learner(dls, nn.Linear(28*28, 1), opt_func = SGD, loss_func = mnist_loss, metrics = batch_accuracy)\n",
    "learn.fit(8, lr = lr)"
   ]
  },
  {
   "cell_type": "markdown",
   "metadata": {},
   "source": [
    "# Adding a Nonlinearity "
   ]
  },
  {
   "cell_type": "code",
   "execution_count": 69,
   "metadata": {},
   "outputs": [],
   "source": [
    "# simple neural network \n",
    "def simple_net(xb):\n",
    "    res = xb@w1 + b1\n",
    "    res = res.max(tensor(0.0))\n",
    "    res = res@w2 +b2\n",
    "    return res "
   ]
  },
  {
   "cell_type": "code",
   "execution_count": 70,
   "metadata": {},
   "outputs": [
    {
     "data": {
      "image/png": "[encoded data removed]",
      "text/plain": [
       "<Figure size 600x400 with 1 Axes>"
      ]
     },
     "metadata": {},
     "output_type": "display_data"
    }
   ],
   "source": [
    "plot_function(F.relu, title = 'retified linear unit')"
   ]
  },
  {
   "cell_type": "code",
   "execution_count": 71,
   "metadata": {},
   "outputs": [
    {
     "data": {
      "text/html": [
       "\n",
       "<style>\n",
       "    /* Turns off some styling */\n",
       "    progress {\n",
       "        /* gets rid of default border in Firefox and Opera. */\n",
       "        border: none;\n",
       "        /* Needs to be in here for Safari polyfill so background images work as expected. */\n",
       "        background-size: auto;\n",
       "    }\n",
       "    progress:not([value]), progress:not([value])::-webkit-progress-bar {\n",
       "        background: repeating-linear-gradient(45deg, #7e7e7e, #7e7e7e 10px, #5c5c5c 10px, #5c5c5c 20px);\n",
       "    }\n",
       "    .progress-bar-interrupted, .progress-bar-interrupted::-webkit-progress-bar {\n",
       "        background: #F44336;\n",
       "    }\n",
       "</style>\n"
      ],
      "text/plain": [
       "<IPython.core.display.HTML object>"
      ]
     },
     "metadata": {},
     "output_type": "display_data"
    },
    {
     "data": {
      "text/html": [
       "<table border=\"1\" class=\"dataframe\">\n",
       "  <thead>\n",
       "    <tr style=\"text-align: left;\">\n",
       "      <th>epoch</th>\n",
       "      <th>train_loss</th>\n",
       "      <th>valid_loss</th>\n",
       "      <th>batch_accuracy</th>\n",
       "      <th>time</th>\n",
       "    </tr>\n",
       "  </thead>\n",
       "  <tbody>\n",
       "    <tr>\n",
       "      <td>0</td>\n",
       "      <td>0.326764</td>\n",
       "      <td>0.423949</td>\n",
       "      <td>0.504416</td>\n",
       "      <td>00:00</td>\n",
       "    </tr>\n",
       "    <tr>\n",
       "      <td>1</td>\n",
       "      <td>0.154003</td>\n",
       "      <td>0.234708</td>\n",
       "      <td>0.794897</td>\n",
       "      <td>00:00</td>\n",
       "    </tr>\n",
       "    <tr>\n",
       "      <td>2</td>\n",
       "      <td>0.084558</td>\n",
       "      <td>0.118046</td>\n",
       "      <td>0.911678</td>\n",
       "      <td>00:00</td>\n",
       "    </tr>\n",
       "    <tr>\n",
       "      <td>3</td>\n",
       "      <td>0.055136</td>\n",
       "      <td>0.079423</td>\n",
       "      <td>0.938665</td>\n",
       "      <td>00:00</td>\n",
       "    </tr>\n",
       "    <tr>\n",
       "      <td>4</td>\n",
       "      <td>0.041561</td>\n",
       "      <td>0.061723</td>\n",
       "      <td>0.955348</td>\n",
       "      <td>00:00</td>\n",
       "    </tr>\n",
       "    <tr>\n",
       "      <td>5</td>\n",
       "      <td>0.034655</td>\n",
       "      <td>0.051817</td>\n",
       "      <td>0.962709</td>\n",
       "      <td>00:00</td>\n",
       "    </tr>\n",
       "    <tr>\n",
       "      <td>6</td>\n",
       "      <td>0.030704</td>\n",
       "      <td>0.045599</td>\n",
       "      <td>0.964671</td>\n",
       "      <td>00:00</td>\n",
       "    </tr>\n",
       "    <tr>\n",
       "      <td>7</td>\n",
       "      <td>0.028147</td>\n",
       "      <td>0.041371</td>\n",
       "      <td>0.965653</td>\n",
       "      <td>00:00</td>\n",
       "    </tr>\n",
       "    <tr>\n",
       "      <td>8</td>\n",
       "      <td>0.026313</td>\n",
       "      <td>0.038307</td>\n",
       "      <td>0.968597</td>\n",
       "      <td>00:00</td>\n",
       "    </tr>\n",
       "    <tr>\n",
       "      <td>9</td>\n",
       "      <td>0.024898</td>\n",
       "      <td>0.035973</td>\n",
       "      <td>0.970069</td>\n",
       "      <td>00:00</td>\n",
       "    </tr>\n",
       "    <tr>\n",
       "      <td>10</td>\n",
       "      <td>0.023754</td>\n",
       "      <td>0.034124</td>\n",
       "      <td>0.973013</td>\n",
       "      <td>00:00</td>\n",
       "    </tr>\n",
       "    <tr>\n",
       "      <td>11</td>\n",
       "      <td>0.022800</td>\n",
       "      <td>0.032618</td>\n",
       "      <td>0.973503</td>\n",
       "      <td>00:00</td>\n",
       "    </tr>\n",
       "  </tbody>\n",
       "</table>"
      ],
      "text/plain": [
       "<IPython.core.display.HTML object>"
      ]
     },
     "metadata": {},
     "output_type": "display_data"
    },
    {
     "data": {
      "text/plain": [
       "0.5044161081314087"
      ]
     },
     "execution_count": 71,
     "metadata": {},
     "output_type": "execute_result"
    }
   ],
   "source": [
    "# We can use PyTorch in-built models. \n",
    "simple_net = nn.Sequential(\n",
    "    nn.Linear(28*28, 30),\n",
    "    nn.ReLU(),\n",
    "    nn.Linear(30, 1)\n",
    ")\n",
    "learn = Learner(dls, simple_net, opt_func = SGD, \n",
    "                loss_func = mnist_loss, metrics = batch_accuracy)\n",
    "learn.fit(12, 0.1)\n",
    "#plt.plot(L(learn.recorder.values).itemgot(2))\n",
    "L(learn.recorder.values).itemgot(2)\n",
    "learn.recorder.values[0][2]\n"
   ]
  },
  {
   "cell_type": "markdown",
   "metadata": {},
   "source": [
    "# Questionnaire\n",
    "1. How is a grayscale image represented on a computer? How about a color image?\n",
    "\n",
    "- Answer: \n",
    "\n",
    "a. A grayscale image is reprensented as a matrix, for example 28*28. Each element in the matrix is called as pixel, and the value of each pixel represents its intensity, varying between 0 (black) and 255 (white) in 8-bit representation.\n",
    "\n",
    "b. A color image is represented as also a matrix, but the value for each pixel is a tuple of three numbers, and describes intensity levels for red, green and blue (typically from 0 to 255).\n",
    "\n",
    "2. How are the files and folders in the MNIST_SAMPLE dataset structured? Why?\n",
    "\n",
    "- Answer:\n",
    "\n",
    "Mnist_Sample dataset is structured as the following way: In the base path, there are three folders 'valid', 'train', 'labels.csv'. Train dataset and Validation dataset are well-orgnized. In details, In 'train' folder, all images of three are placed in '3' folder, and all images of seven are placed in '7' folder. Every image is well grouped, and making it easy image classification.    \n",
    "\n",
    "3. Explain how the “pixel similarity” approach to classifying digits works.\n",
    "\n",
    "-Answer: This approach first creates two ideal images for '3' and '7', and then compares each image that needs to predict to these two ideal images.  To classify an image as '3' or '7'. We see which of two ideal images the image is similar to.\n",
    "\n",
    "4. What is a list comprehension? Create one now that selects odd numbers from a list and doubles them.\n",
    "\n",
    "-Answer: list comprehension is a way to create a list. It allows you to use a single line code.\n",
    "`aa = [e for e in range(n) if e%2 ==1]`\n",
    "`bb =[2*e for e in aa ]`\n",
    "\n",
    "5. what is a rank-3 tensor?\n",
    "\n",
    "- Answer: the rank of a tensor means how many indexes needed to locate an element. For example, A rank-2 tensor, that is a matrix, needs two indexes to locate an ellemnt.\n",
    "\n",
    "\n",
    "6. What is the difference between tensor rank and shape? How do you get the rank from the shape?\n",
    "\n",
    "- Answer: the shape means how many dimensions are there at each index of a tensor. We get the rank using \n",
    "`len(tensor([[1,2],[3,4],[5,6]]).shpae)` \n",
    "7. What are RMSE and L1 norm?\n",
    "\n",
    "- Answer: RMSE is the square root of MSE, where MSE is the mean square error. MSE is obtained through making summation over all the squares of each difference between a predited value and a truth value. L1 norm is MAE, which is obtained through making summation over all the absolute values of each difference between a predited value and a truth value. \n",
    "\n",
    "\n",
    "8. How can you apply a calculation on thousands of numbers at once, many thou‐ sands of times faster than a Python loop?\n",
    "\n",
    "- Answer: \n",
    "9. Create a 3×3 tensor or array containing the numbers from 1 to 9. Double it. Select the bottom-right four numbers.\n",
    "\n",
    "- Answer:\n",
    "`a = tensor(range(1, 10)).view(3,3)`\n",
    "`a = 2*a`\n",
    "`a[-1,-1]`\n",
    "10. What is broadcasting?\n",
    "\n",
    "- Answer: \n",
    "\n",
    "Broadcasting means a smaller rank tensor or array \n"
   ]
  },
  {
   "cell_type": "code",
   "execution_count": 72,
   "metadata": {},
   "outputs": [
    {
     "data": {
      "text/plain": [
       "torch.Size([3, 2])"
      ]
     },
     "execution_count": 72,
     "metadata": {},
     "output_type": "execute_result"
    }
   ],
   "source": [
    "ff = [e for e in range(10) if e%2 ==1]\n",
    "tensor([[1,2],[3,4],[5,6]]).shape"
   ]
  },
  {
   "cell_type": "code",
   "execution_count": 73,
   "metadata": {},
   "outputs": [
    {
     "data": {
      "text/plain": [
       "tensor(9)"
      ]
     },
     "execution_count": 73,
     "metadata": {},
     "output_type": "execute_result"
    }
   ],
   "source": [
    "aa= tensor(range(1, 10)).view(3,3)\n",
    "aa[-1,-1]"
   ]
  }
 ],
 "metadata": {
  "kernelspec": {
   "display_name": "dswork",
   "language": "python",
   "name": "python3"
  },
  "language_info": {
   "codemirror_mode": {
    "name": "ipython",
    "version": 3
   },
   "file_extension": ".py",
   "mimetype": "text/x-python",
   "name": "python",
   "nbconvert_exporter": "python",
   "pygments_lexer": "ipython3",
   "version": "3.12.7"
  }
 },
 "nbformat": 4,
 "nbformat_minor": 2
}
